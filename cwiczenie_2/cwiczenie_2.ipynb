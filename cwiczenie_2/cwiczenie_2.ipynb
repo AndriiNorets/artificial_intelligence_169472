{
 "cells": [
  {
   "cell_type": "markdown",
   "id": "0ccba4dc",
   "metadata": {},
   "source": [
    "# 1. Zapewne pamiętasz o odkurzaczu omówionym w pierwszych dwóch wykładach.\n",
    "(i) Sformułuj problem jako problem przeszukiwania; tzn. musisz napisać stan\n",
    "początkowy, możliwe działania za pomocą funkcji Action(state), relację\n",
    "przejścia za pomocą funkcji Result(state, action) i stan celu. Proszę zobacz\n",
    "yć strona 9 wykładu 2. Zakładamy, że obie kwadraty A i B są brudne i\n",
    "agent znajduje się w kwadracie A. Zakładamy również, że agent ma trzy\n",
    "\n",
    "możliwe działania: ruszaj w lewo, ruszaj w prawo i ssać. (ii) Napisz pro-\n",
    "gram za pomocą algorytm ‘Breadth First Search, aby agent mógł odszukiwać\n",
    "\n",
    "brud we wszystkich możliwych lokalizacjach i wyczyścić go (tzn., znalezienie\n",
    "ścieżkę z węzła początkowego do węzła docelowego. Wystarczy, aby program\n",
    "wydrukował każdą sekwencję akcji na konsoli, i pokazał kiedy osiąga cel\n",
    "(czyli ścieżka z węzła początkowego do węzła docelowego)."
   ]
  },
  {
   "cell_type": "code",
   "execution_count": 7,
   "id": "0181e149",
   "metadata": {},
   "outputs": [],
   "source": [
    "from collections import deque\n",
    "\n",
    "def find_shortest_cleaning_sequence(initial_state):\n",
    "    # Initialize the queue with starting state and empty path\n",
    "    queue = deque()\n",
    "    queue.append((initial_state, []))\n",
    "    \n",
    "    # Track visited states to avoid cycles\n",
    "    visited = set()\n",
    "    \n",
    "    while queue:\n",
    "        current_state, path = queue.popleft()\n",
    "        \n",
    "        # Create a unique key for the state to check if we've seen it before\n",
    "        state_key = (\n",
    "            tuple(sorted(current_state['cleanliness'].items())),\n",
    "            current_state['vacuum']\n",
    "        )\n",
    "        \n",
    "        # Skip if we've already seen this state\n",
    "        if state_key in visited:\n",
    "            continue\n",
    "            \n",
    "        # Check if we've reached the goal (all positions clean)\n",
    "        if all(status == 'clean' for status in current_state['cleanliness'].values()):\n",
    "            return path\n",
    "            \n",
    "        # Mark this state as visited\n",
    "        visited.add(state_key)\n",
    "        \n",
    "        # Generate all possible next states\n",
    "        current_pos = current_state['vacuum']\n",
    "        positions = current_state['positions']\n",
    "        \n",
    "        # Action 1: Clean current position\n",
    "        if current_state['cleanliness'][current_pos] == 'dirty':\n",
    "            new_state = current_state.copy()\n",
    "            new_state['cleanliness'] = current_state['cleanliness'].copy()\n",
    "            new_state['cleanliness'][current_pos] = 'clean'\n",
    "            queue.append((new_state, path + ['clean']))\n",
    "        \n",
    "        # Action 2: Move left (to previous position in the list)\n",
    "        current_index = positions.index(current_pos)\n",
    "        if current_index > 0:\n",
    "            new_pos = positions[current_index - 1]\n",
    "            new_state = current_state.copy()\n",
    "            new_state['vacuum'] = new_pos\n",
    "            queue.append((new_state, path + ['move_left']))\n",
    "        \n",
    "        # Action 3: Move right (to next position in the list)\n",
    "        if current_index < len(positions) - 1:\n",
    "            new_pos = positions[current_index + 1]\n",
    "            new_state = current_state.copy()\n",
    "            new_state['vacuum'] = new_pos\n",
    "            queue.append((new_state, path + ['move_right']))\n",
    "    \n",
    "    return None "
   ]
  },
  {
   "cell_type": "code",
   "execution_count": 8,
   "id": "4b73da8b",
   "metadata": {},
   "outputs": [
    {
     "name": "stdout",
     "output_type": "stream",
     "text": [
      "Shortest cleaning sequence: ['clean', 'move_right', 'clean']\n"
     ]
    }
   ],
   "source": [
    "initial_state = {\n",
    "    'positions': ['A', 'B'],  # Can add more positions like ['A', 'B', 'C']\n",
    "    'cleanliness': {'A': 'dirty', 'B': 'dirty'},\n",
    "    'vacuum': 'A'\n",
    "}\n",
    "\n",
    "solution = find_shortest_cleaning_sequence(initial_state)\n",
    "print(\"Shortest cleaning sequence:\", solution)"
   ]
  }
 ],
 "metadata": {
  "kernelspec": {
   "display_name": "Python 3 (ipykernel)",
   "language": "python",
   "name": "python3"
  },
  "language_info": {
   "codemirror_mode": {
    "name": "ipython",
    "version": 3
   },
   "file_extension": ".py",
   "mimetype": "text/x-python",
   "name": "python",
   "nbconvert_exporter": "python",
   "pygments_lexer": "ipython3",
   "version": "3.11.3"
  }
 },
 "nbformat": 4,
 "nbformat_minor": 5
}
