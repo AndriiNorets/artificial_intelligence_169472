{
 "cells": [
  {
   "cell_type": "markdown",
   "id": "0ccba4dc",
   "metadata": {},
   "source": [
    "# 1. Zapewne pamiętasz o odkurzaczu omówionym w pierwszych dwóch wykładach.\n",
    "(i) Sformułuj problem jako problem przeszukiwania; tzn. musisz napisać stan\n",
    "początkowy, możliwe działania za pomocą funkcji Action(state), relację\n",
    "przejścia za pomocą funkcji Result(state, action) i stan celu. Proszę zobacz\n",
    "yć strona 9 wykładu 2. Zakładamy, że obie kwadraty A i B są brudne i\n",
    "agent znajduje się w kwadracie A. Zakładamy również, że agent ma trzy\n",
    "\n",
    "możliwe działania: ruszaj w lewo, ruszaj w prawo i ssać. (ii) Napisz pro-\n",
    "gram za pomocą algorytm ‘Breadth First Search, aby agent mógł odszukiwać\n",
    "\n",
    "brud we wszystkich możliwych lokalizacjach i wyczyścić go (tzn., znalezienie\n",
    "ścieżkę z węzła początkowego do węzła docelowego. Wystarczy, aby program\n",
    "wydrukował każdą sekwencję akcji na konsoli, i pokazał kiedy osiąga cel\n",
    "(czyli ścieżka z węzła początkowego do węzła docelowego)."
   ]
  },
  {
   "cell_type": "code",
   "execution_count": 1,
   "id": "0181e149",
   "metadata": {
    "ExecuteTime": {
     "end_time": "2025-03-26T09:04:05.332238Z",
     "start_time": "2025-03-26T09:04:05.316181Z"
    }
   },
   "outputs": [],
   "source": [
    "from collections import deque\n",
    "\n",
    "def find_shortest_cleaning_sequence(initial_state):\n",
    "    # Initialize the queue with starting state and empty path\n",
    "    queue = deque()\n",
    "    queue.append((initial_state, []))\n",
    "    \n",
    "    # Track visited states to avoid cycles\n",
    "    visited = set()\n",
    "    \n",
    "    while queue:\n",
    "        current_state, path = queue.popleft()\n",
    "        \n",
    "        # Create a unique key for the state to check if we've seen it before\n",
    "        state_key = (\n",
    "            tuple(sorted(current_state['cleanliness'].items())),\n",
    "            current_state['vacuum']\n",
    "        )\n",
    "        \n",
    "        # Skip if we've already seen this state\n",
    "        if state_key in visited:\n",
    "            continue\n",
    "            \n",
    "        # Check if we've reached the goal (all positions clean)\n",
    "        if all(status == 'clean' for status in current_state['cleanliness'].values()):\n",
    "            return path\n",
    "            \n",
    "        # Mark this state as visited\n",
    "        visited.add(state_key)\n",
    "        \n",
    "        # Generate all possible next states\n",
    "        current_pos = current_state['vacuum']\n",
    "        positions = current_state['positions']\n",
    "        \n",
    "        # Action 1: Clean current position\n",
    "        if current_state['cleanliness'][current_pos] == 'dirty':\n",
    "            new_state = current_state.copy()\n",
    "            new_state['cleanliness'] = current_state['cleanliness'].copy()\n",
    "            new_state['cleanliness'][current_pos] = 'clean'\n",
    "            queue.append((new_state, path + ['clean']))\n",
    "        \n",
    "        # Action 2: Move left (to previous position in the list)\n",
    "        current_index = positions.index(current_pos)\n",
    "        if current_index > 0:\n",
    "            new_pos = positions[current_index - 1]\n",
    "            new_state = current_state.copy()\n",
    "            new_state['vacuum'] = new_pos\n",
    "            queue.append((new_state, path + ['move_left']))\n",
    "        \n",
    "        # Action 3: Move right (to next position in the list)\n",
    "        if current_index < len(positions) - 1:\n",
    "            new_pos = positions[current_index + 1]\n",
    "            new_state = current_state.copy()\n",
    "            new_state['vacuum'] = new_pos\n",
    "            queue.append((new_state, path + ['move_right']))\n",
    "    \n",
    "    return None "
   ]
  },
  {
   "cell_type": "code",
   "execution_count": 3,
   "id": "4b73da8b",
   "metadata": {
    "ExecuteTime": {
     "end_time": "2025-03-26T09:05:13.384061Z",
     "start_time": "2025-03-26T09:05:13.373483Z"
    }
   },
   "outputs": [
    {
     "name": "stdout",
     "output_type": "stream",
     "text": [
      "Shortest cleaning sequence: ['move_left', 'clean', 'move_right', 'move_right', 'clean']\n"
     ]
    }
   ],
   "source": [
    "initial_state = {\n",
    "    'positions': ['A', 'B', 'C'],  # Can add more positions like ['A', 'B', 'C']\n",
    "    'cleanliness': {'A': 'dirty', 'B': 'clean', 'C': 'dirty'},\n",
    "    'vacuum': 'B'\n",
    "}\n",
    "\n",
    "solution = find_shortest_cleaning_sequence(initial_state)\n",
    "print(\"Shortest cleaning sequence:\", solution)"
   ]
  },
  {
   "cell_type": "markdown",
   "source": [
    "# 2. Rozważ 8 zagadek ze stanem początkowym jako\n",
    "[ ] [1] [3]\n",
    "[4] [2] [5]\n",
    "[7] [8] [6].\n",
    "\n",
    "Stan docelowy to:\n",
    "[1] [2] [3]\n",
    "[4] [5] [6]\n",
    "[7] [8] [ ].\n",
    "\n",
    "(i) Opisz sformułowanie problemu jako problem przeszukiwania.\n",
    "(ii) Napisz program, używając przeszukiwania A∗\n",
    "\n",
    "(Zobacz numer wykładu 3). Uważamy, że każdy krok kosztuje 1, a zatem koszty osiągnięcia stanu n \n",
    "z stanu początkowego (czyli g(n)) jest całkowita liczba kroków wymaganych do osiągnięcia stanu n. Możesz użyć funkcji heurystycznej, gdzie h(stan) = suma odległości bloku miasta (sum of city block distance). Wystarczy, aby \n",
    "program wydrukował każdą sekwencję akcji na konsoli, i pokazał kiedy osiąga cel.\n",
    "\n",
    "(Uwaga: W celu wykonania (ii) byłoby dobrze stworzyć drzewo gry z powiązaną wartością f(n) = g(n) + h(n) dla każdego węzła.)"
   ],
   "metadata": {
    "collapsed": false
   },
   "id": "ba4a8738cc0cc5d1"
  },
  {
   "cell_type": "code",
   "outputs": [
    {
     "name": "stdout",
     "output_type": "stream",
     "text": [
      "Znaleziono rozwiązanie w 4 ruchach!\n",
      "[[1 None 3]\n",
      " [4 2 5]\n",
      " [7 8 6]] \n",
      "\n",
      "[[1 2 3]\n",
      " [4 None 5]\n",
      " [7 8 6]] \n",
      "\n",
      "[[1 2 3]\n",
      " [4 5 None]\n",
      " [7 8 6]] \n",
      "\n",
      "[[1 2 3]\n",
      " [4 5 6]\n",
      " [7 8 None]] \n"
     ]
    }
   ],
   "source": [
    "import numpy as np\n",
    "import heapq\n",
    "\n",
    "class Puzzle8:\n",
    "    def __init__(self, start, goal):\n",
    "        self.start = tuple(map(tuple, start))\n",
    "        self.goal = tuple(map(tuple, goal))\n",
    "        self.n = len(start)\n",
    "        self.moves = [(-1, 0), (1, 0), (0, -1), (0, 1)]\n",
    "\n",
    "    def heuristic(self, state):\n",
    "        state_array = np.array(state)\n",
    "        goal_array = np.array(self.goal)\n",
    "        h = sum(abs(x1 - x2) + abs(y1 - y2)\n",
    "                for i in range(1, 9)\n",
    "                for (x1, y1), (x2, y2) in zip(np.argwhere(state_array == i), np.argwhere(goal_array == i)))\n",
    "        return h\n",
    "\n",
    "    def get_neighbors(self, state):\n",
    "        neighbors = []\n",
    "        state_array = np.array(state)\n",
    "        x, y = np.argwhere(state_array == None)[0]\n",
    "\n",
    "        for dx, dy in self.moves:\n",
    "            nx, ny = x + dx, y + dy\n",
    "            if 0 <= nx < self.n and 0 <= ny < self.n:\n",
    "                new_state = state_array.copy()\n",
    "                new_state[x, y], new_state[nx, ny] = new_state[nx, ny], new_state[x, y]\n",
    "                neighbors.append(tuple(map(tuple, new_state)))\n",
    "        return neighbors\n",
    "\n",
    "    def solve(self):\n",
    "        open_set = []\n",
    "        heapq.heappush(open_set, (self.heuristic(self.start), 0, self.start, []))\n",
    "        visited = set()\n",
    "\n",
    "        while open_set:\n",
    "            _, g, current, path = heapq.heappop(open_set)\n",
    "\n",
    "            if current in visited:\n",
    "                continue\n",
    "            visited.add(current)\n",
    "\n",
    "            if current == self.goal:\n",
    "                print(f\"Znaleziono rozwiązanie w {g} ruchach!\")\n",
    "                for step in path:\n",
    "                    print(np.array(step), \"\\n\")\n",
    "                return path\n",
    "\n",
    "            for neighbor in self.get_neighbors(current):\n",
    "                if neighbor not in visited:\n",
    "                    new_g = g + 1\n",
    "                    heapq.heappush(open_set, (new_g + self.heuristic(neighbor), new_g, neighbor, path + [neighbor]))\n",
    "\n",
    "        print(\"Brak rozwiązania\")\n",
    "        return None\n",
    "\n",
    "start_state = np.array([[None, 1, 3],\n",
    "                        [4, 2, 5],\n",
    "                        [7, 8, 6]])\n",
    "\n",
    "goal_state = np.array([[1, 2, 3],\n",
    "                       [4, 5, 6],\n",
    "                       [7, 8, None]])\n",
    "\n",
    "puzzle = Puzzle8(start_state, goal_state)\n",
    "solution = puzzle.solve()\n"
   ],
   "metadata": {
    "collapsed": false,
    "ExecuteTime": {
     "end_time": "2025-03-26T09:54:13.567731Z",
     "start_time": "2025-03-26T09:54:13.545789Z"
    }
   },
   "id": "1bc90cfe987a08e9",
   "execution_count": 18
  },
  {
   "cell_type": "markdown",
   "source": [
    "3. Zapewne pamiętasz o Trywialnej grze rozważanej w wykładach 3 i 4. Napisz\n",
    "program, aby znaleźć optymalną strategię dla MAX za pomocą algorytmu\n",
    "Maximin z przycinaniem [α, β] ([α, β]-prunning)."
   ],
   "metadata": {
    "collapsed": false
   },
   "id": "3b1a2ae4cbf2e9db"
  }
 ],
 "metadata": {
  "kernelspec": {
   "display_name": "Python 3 (ipykernel)",
   "language": "python",
   "name": "python3"
  },
  "language_info": {
   "codemirror_mode": {
    "name": "ipython",
    "version": 3
   },
   "file_extension": ".py",
   "mimetype": "text/x-python",
   "name": "python",
   "nbconvert_exporter": "python",
   "pygments_lexer": "ipython3",
   "version": "3.11.3"
  }
 },
 "nbformat": 4,
 "nbformat_minor": 5
}
