{
 "cells": [
  {
   "cell_type": "markdown",
   "id": "e925df81",
   "metadata": {},
   "source": [
    "# Zadanie 1.3"
   ]
  },
  {
   "cell_type": "code",
   "execution_count": null,
   "id": "0fd5d390",
   "metadata": {},
   "outputs": [],
   "source": []
  },
  {
   "cell_type": "markdown",
   "id": "db4ef2f5",
   "metadata": {},
   "source": [
    "# Zadanie 2 | Uczenie się z danych"
   ]
  },
  {
   "cell_type": "code",
   "execution_count": null,
   "id": "a1bd2986",
   "metadata": {},
   "outputs": [],
   "source": []
  },
  {
   "cell_type": "markdown",
   "id": "cd7b124a",
   "metadata": {},
   "source": [
    "# Zadanie 3 | Drzewo decyzyjne"
   ]
  },
  {
   "cell_type": "code",
   "execution_count": null,
   "id": "1b67d3e7",
   "metadata": {},
   "outputs": [],
   "source": []
  }
 ],
 "metadata": {
  "kernelspec": {
   "display_name": "Python 3 (ipykernel)",
   "language": "python",
   "name": "python3"
  },
  "language_info": {
   "codemirror_mode": {
    "name": "ipython",
    "version": 3
   },
   "file_extension": ".py",
   "mimetype": "text/x-python",
   "name": "python",
   "nbconvert_exporter": "python",
   "pygments_lexer": "ipython3",
   "version": "3.11.3"
  }
 },
 "nbformat": 4,
 "nbformat_minor": 5
}
