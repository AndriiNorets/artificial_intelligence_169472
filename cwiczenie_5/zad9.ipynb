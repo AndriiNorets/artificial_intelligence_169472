{
 "cells": [
  {
   "cell_type": "markdown",
   "id": "13c8a45f93e7dcfb",
   "metadata": {},
   "source": [
    "# Zadanie 1"
   ]
  },
  {
   "cell_type": "code",
   "execution_count": 8,
   "id": "a0d075f3",
   "metadata": {},
   "outputs": [],
   "source": [
    "def pl_true_symbols(s, m):\n",
    "    if isinstance(s, str):  \n",
    "        if s in m:\n",
    "            return m[s]\n",
    "        else:\n",
    "            raise ValueError(f\"Symbol '{s}' nie znaleziony w przypisaniu m.\")\n",
    "\n",
    "    elif isinstance(s, tuple):  \n",
    "        operator = s[0] \n",
    "\n",
    "        if operator == '~': # Negacja\n",
    "            if len(s) != 2:\n",
    "                raise ValueError(f\"Operator ~ oczekuje jednego argumentu, otrzymano {len(s)-1} dla {s}\")\n",
    "            val = pl_true_symbols(s[1], m)\n",
    "            return 1 - val\n",
    "\n",
    "        elif operator == '&': # Koniunkcja (AND)\n",
    "            if len(s) != 3:\n",
    "                raise ValueError(f\"Operator & oczekuje dwóch argumentów, otrzymano {len(s)-1} dla {s}\")\n",
    "            val1 = pl_true_symbols(s[1], m)\n",
    "            val2 = pl_true_symbols(s[2], m)\n",
    "            return 1 if val1 == 1 and val2 == 1 else 0\n",
    "\n",
    "        elif operator == '|': # Alternatywa (OR)\n",
    "            if len(s) != 3:\n",
    "                raise ValueError(f\"Operator | oczekuje dwóch argumentów, otrzymano {len(s)-1} dla {s}\")\n",
    "            val1 = pl_true_symbols(s[1], m)\n",
    "            val2 = pl_true_symbols(s[2], m)\n",
    "            return 1 if val1 == 1 or val2 == 1 else 0\n",
    "\n",
    "        elif operator == '->': # Implikacja\n",
    "            if len(s) != 3:\n",
    "                raise ValueError(f\"Operator -> oczekuje dwóch argumentów, otrzymano {len(s)-1} dla {s}\")\n",
    "            val1 = pl_true_symbols(s[1], m) \n",
    "            val2 = pl_true_symbols(s[2], m)\n",
    "            \n",
    "            # A -> B jest równoważne ~A | B\n",
    "            return 1 if (1 - val1) == 1 or val2 == 1 else 0\n",
    "\n",
    "\n",
    "        else:\n",
    "            raise ValueError(f\"Nieznany operator: {operator} w zdaniu {s}\")\n",
    "    else:\n",
    "        raise TypeError(f\"Nieprawidłowy format zdania S: {s}. Oczekiwano stringa lub krotki.\")\n",
    "\n"
   ]
  },
  {
   "cell_type": "markdown",
   "id": "fa8c8b53",
   "metadata": {},
   "source": [
    "### Przypadek 0: 0 spójników"
   ]
  },
  {
   "cell_type": "code",
   "execution_count": 9,
   "id": "326ed7e0",
   "metadata": {},
   "outputs": [
    {
     "name": "stdout",
     "output_type": "stream",
     "text": [
      "Zdanie: p, Przypisanie: {'p': 1}, Wynik: 1\n"
     ]
    }
   ],
   "source": [
    "m0 = {'p': 1}\n",
    "s0 = 'p'\n",
    "print(f\"Zdanie: {s0}, Przypisanie: {m0}, Wynik: {pl_true_symbols(s0, m0)}\")"
   ]
  },
  {
   "cell_type": "markdown",
   "id": "3044c662",
   "metadata": {},
   "source": [
    "### Przypadek 1: 1 spójnik"
   ]
  },
  {
   "cell_type": "code",
   "execution_count": 10,
   "id": "ba345be2",
   "metadata": {},
   "outputs": [
    {
     "name": "stdout",
     "output_type": "stream",
     "text": [
      "Zdanie: ('~', 'p'), Przypisanie: {'p': 0}, Wynik: 1\n"
     ]
    }
   ],
   "source": [
    "m1a = {'p': 0}\n",
    "s1a = ('~', 'p')\n",
    "print(f\"Zdanie: {s1a}, Przypisanie: {m1a}, Wynik: {pl_true_symbols(s1a, m1a)}\")"
   ]
  },
  {
   "cell_type": "code",
   "execution_count": 11,
   "id": "52f66dbd",
   "metadata": {},
   "outputs": [
    {
     "name": "stdout",
     "output_type": "stream",
     "text": [
      "Zdanie: ('&', 'p', 'q'), Przypisanie: {'p': 1, 'q': 1}, Wynik: 1\n"
     ]
    }
   ],
   "source": [
    "m1b = {'p': 1, 'q': 1}\n",
    "s1b = ('&', 'p', 'q')\n",
    "print(f\"Zdanie: {s1b}, Przypisanie: {m1b}, Wynik: {pl_true_symbols(s1b, m1b)}\")"
   ]
  },
  {
   "cell_type": "markdown",
   "id": "85713100",
   "metadata": {},
   "source": [
    "### Przypadek 2: 2 spójniki"
   ]
  },
  {
   "cell_type": "code",
   "execution_count": 12,
   "id": "b9fe3b2f",
   "metadata": {},
   "outputs": [
    {
     "name": "stdout",
     "output_type": "stream",
     "text": [
      "Zdanie: ('->', ('|', 'p', ('~', 'q')), 'r'), Przypisanie: {'p': 0, 'q': 1, 'r': 0}, Wynik: 1\n"
     ]
    }
   ],
   "source": [
    "m2 = {'p': 0, 'q': 1, 'r': 0} \n",
    "s2 = ('->', ('|', 'p', ('~', 'q')), 'r')\n",
    "print(f\"Zdanie: {s2}, Przypisanie: {m2}, Wynik: {pl_true_symbols(s2, m2)}\")"
   ]
  },
  {
   "cell_type": "code",
   "execution_count": 13,
   "id": "2b2d2392",
   "metadata": {},
   "outputs": [
    {
     "name": "stdout",
     "output_type": "stream",
     "text": [
      "Zdanie: ('->', ('&', 'p', ('~', 'q')), 'r'), Przypisanie: {'p': 1, 'q': 0, 'r': 0}, Wynik: 0\n"
     ]
    }
   ],
   "source": [
    "m2_v2 = {'p': 1, 'q': 0, 'r': 0} \n",
    "s2_v2 = ('->', ('&', 'p', ('~', 'q')), 'r')\n",
    "print(f\"Zdanie: {s2_v2}, Przypisanie: {m2_v2}, Wynik: {pl_true_symbols(s2_v2, m2_v2)}\")"
   ]
  },
  {
   "cell_type": "markdown",
   "id": "b5843366",
   "metadata": {},
   "source": [
    "# Zadanie 2"
   ]
  },
  {
   "cell_type": "code",
   "execution_count": null,
   "id": "51f2cf25",
   "metadata": {},
   "outputs": [],
   "source": []
  },
  {
   "cell_type": "markdown",
   "id": "06106b07",
   "metadata": {},
   "source": [
    "# Zadanie 9"
   ]
  },
  {
   "cell_type": "markdown",
   "id": "58e1dccb9f60e2de",
   "metadata": {},
   "source": [
    "Oznaczenia (predykaty i stałe):\n",
    "\n",
    "  Loves(x,y): x kocha y\n",
    "\n",
    "  Kills(x,y): x zabija y\n",
    "\n",
    "  Animal(y): y jest zwierzęciem\n",
    "\n",
    "  Tuna: kot Tuna (stała)\n",
    "\n",
    "  Jack, Jola: osoby (stałe)\n",
    "\n",
    "  ∀, ∃: kwantyfikatory ogólny i szczegółowy\n",
    "    \n",
    "Wiedza ogólna (KB):\n",
    "1. Każdy, kto kocha wszystkie zwierzęta, jest przez kogoś kochany.\n",
    "    ∀x[(∀y(Animal(y)→Loves(x,y)))→(∃zLoves(z,x))]\n",
    "2. Nikt nie kocha tego, kto zabija zwierzę.\n",
    "    ∀x∀y∀z[(Animal(z)∧Kills(y,z))→¬Loves(x,y)]\n",
    "3. Jack kocha wszystkie zwierzęta.\n",
    "    ∀y(Animal(y)→Loves(Jack,y))\n",
    "4. Albo Jack, albo Jola zabili kota Tuna.\n",
    "    Kills(Jack,Tuna)∨Kills(Jola,Tuna)\n",
    "5. Tuna jest zwierzęciem.\n",
    "    Animal(Tuna)\n",
    "\n"
   ]
  },
  {
   "cell_type": "code",
   "execution_count": 7,
   "id": "84fe7b83ee22504d",
   "metadata": {
    "ExecuteTime": {
     "end_time": "2025-05-14T17:23:15.655365Z",
     "start_time": "2025-05-14T17:23:15.338149Z"
    }
   },
   "outputs": [
    {
     "name": "stdout",
     "output_type": "stream",
     "text": [
      "Nie można jednoznacznie stwierdzić, że Jola zabiła kota Tuna.\n",
      "Spełniające przypisanie: {Animal_Tuna: True, Kills_Jola_Tuna: False, Loves_Jack_Tuna: True, Loves_f_Jack: True, Kills_Jack_Tuna: True, Loves_Someone_Jack: False}\n"
     ]
    }
   ],
   "source": [
    "from sympy import symbols, Or, And, Not\n",
    "from sympy.logic.boolalg import to_cnf\n",
    "from sympy.logic.inference import satisfiable\n",
    "\n",
    "# Predykaty jako funkcje\n",
    "Loves = lambda x, y: symbols(f\"Loves_{x}_{y}\")\n",
    "Kills = lambda x, y: symbols(f\"Kills_{x}_{y}\")\n",
    "Animal = lambda x: symbols(f\"Animal_{x}\")\n",
    "\n",
    "# Stałe (osoby i kot)\n",
    "Jack = \"Jack\"\n",
    "Jola = \"Jola\"\n",
    "Tuna = \"Tuna\"\n",
    "\n",
    "# KB: baza wiedzy w postaci CNF, po ręcznej skolemizacji\n",
    "\n",
    "kb = And(\n",
    "    # (1) Jack kocha wszystkie zwierzęta → ¬Animal(Tuna) ∨ Loves(Jack, Tuna)\n",
    "    Or(Not(Animal(Tuna)), Loves(Jack, Tuna)),\n",
    "\n",
    "    # (2) Tuna jest zwierzęciem\n",
    "    Animal(Tuna),\n",
    "\n",
    "    # (3) Jack lub Jola zabili kota Tuna\n",
    "    Or(Kills(Jack, Tuna), Kills(Jola, Tuna)),\n",
    "\n",
    "    # (4) Nikt nie kocha tego, kto zabija zwierzę → rozpisane dla Jacka i Joli\n",
    "    Or(Not(Animal(Tuna)), Not(Kills(Jack, Tuna)), Not(Loves(\"Someone\", Jack))),\n",
    "    Or(Not(Animal(Tuna)), Not(Kills(Jola, Tuna)), Not(Loves(\"Someone\", Jola))),\n",
    "\n",
    "    # (5) Każdy, kto kocha wszystkie zwierzęta, jest przez kogoś kochany\n",
    "    # Rozpisane dla Jacka i Tuna (skolemizowane)\n",
    "    Or(Animal(Tuna), Loves(\"f\", Jack)),\n",
    "    Or(Not(Loves(Jack, Tuna)), Loves(\"f\", Jack))\n",
    ")\n",
    "\n",
    "# Negacja wniosku: zakładamy, że Jola NIE zabiła Tuny\n",
    "negated_conclusion = Not(Kills(Jola, Tuna))\n",
    "\n",
    "# Łączymy bazę wiedzy z negacją wniosku\n",
    "full_formula = And(kb, negated_conclusion)\n",
    "\n",
    "# Przekształcamy do CNF (można też wypisać: print(to_cnf(full_formula, simplify=True)))\n",
    "cnf = to_cnf(full_formula, simplify=True)\n",
    "\n",
    "# Sprawdzamy, czy formuła jest spełnialna\n",
    "result = satisfiable(cnf)\n",
    "\n",
    "# Interpretacja wyniku\n",
    "if not result:\n",
    "    print(\"Wniosek: Z KB wynika, że Jola zabiła kota Tuna.\")\n",
    "else:\n",
    "    print(\"Nie można jednoznacznie stwierdzić, że Jola zabiła kota Tuna.\")\n",
    "    print(\"Spełniające przypisanie:\", result)\n"
   ]
  },
  {
   "cell_type": "code",
   "execution_count": null,
   "id": "17891d06cc709ed7",
   "metadata": {
    "ExecuteTime": {
     "end_time": "2025-05-14T17:23:15.665282Z",
     "start_time": "2025-05-14T17:23:15.659683Z"
    }
   },
   "outputs": [],
   "source": []
  }
 ],
 "metadata": {
  "kernelspec": {
   "display_name": "Python 3 (ipykernel)",
   "language": "python",
   "name": "python3"
  },
  "language_info": {
   "codemirror_mode": {
    "name": "ipython",
    "version": 3
   },
   "file_extension": ".py",
   "mimetype": "text/x-python",
   "name": "python",
   "nbconvert_exporter": "python",
   "pygments_lexer": "ipython3",
   "version": "3.11.3"
  }
 },
 "nbformat": 4,
 "nbformat_minor": 5
}
