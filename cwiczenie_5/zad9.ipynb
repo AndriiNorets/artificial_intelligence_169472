{
 "cells": [
  {
   "cell_type": "markdown",
   "source": [],
   "metadata": {
    "collapsed": false
   },
   "id": "13c8a45f93e7dcfb"
  },
  {
   "cell_type": "markdown",
   "source": [
    "Oznaczenia (predykaty i stałe):\n",
    "\n",
    "  Loves(x,y): x kocha y\n",
    "\n",
    "  Kills(x,y): x zabija y\n",
    "\n",
    "  Animal(y): y jest zwierzęciem\n",
    "\n",
    "  Tuna: kot Tuna (stała)\n",
    "\n",
    "  Jack, Jola: osoby (stałe)\n",
    "\n",
    "  ∀, ∃: kwantyfikatory ogólny i szczegółowy\n",
    "    \n",
    "Wiedza ogólna (KB):\n",
    "1. Każdy, kto kocha wszystkie zwierzęta, jest przez kogoś kochany.\n",
    "    ∀x[(∀y(Animal(y)→Loves(x,y)))→(∃zLoves(z,x))]\n",
    "2. Nikt nie kocha tego, kto zabija zwierzę.\n",
    "    ∀x∀y∀z[(Animal(z)∧Kills(y,z))→¬Loves(x,y)]\n",
    "3. Jack kocha wszystkie zwierzęta.\n",
    "    ∀y(Animal(y)→Loves(Jack,y))\n",
    "4. Albo Jack, albo Jola zabili kota Tuna.\n",
    "    Kills(Jack,Tuna)∨Kills(Jola,Tuna)\n",
    "5. Tuna jest zwierzęciem.\n",
    "    Animal(Tuna)\n",
    "\n"
   ],
   "metadata": {
    "collapsed": false
   },
   "id": "58e1dccb9f60e2de"
  },
  {
   "cell_type": "code",
   "outputs": [
    {
     "name": "stdout",
     "output_type": "stream",
     "text": [
      "Nie można jednoznacznie stwierdzić, że Jola zabiła kota Tuna.\n",
      "Spełniające przypisanie: {Loves_f_Jack: True, Animal_Tuna: True, Kills_Jack_Tuna: True, Loves_Jack_Tuna: True, Kills_Jola_Tuna: False, Loves_Someone_Jack: False}\n"
     ]
    }
   ],
   "source": [
    "from sympy import symbols, Or, And, Not\n",
    "from sympy.logic.boolalg import to_cnf\n",
    "from sympy.logic.inference import satisfiable\n",
    "\n",
    "# Predykaty jako funkcje\n",
    "Loves = lambda x, y: symbols(f\"Loves_{x}_{y}\")\n",
    "Kills = lambda x, y: symbols(f\"Kills_{x}_{y}\")\n",
    "Animal = lambda x: symbols(f\"Animal_{x}\")\n",
    "\n",
    "# Stałe (osoby i kot)\n",
    "Jack = \"Jack\"\n",
    "Jola = \"Jola\"\n",
    "Tuna = \"Tuna\"\n",
    "\n",
    "# KB: baza wiedzy w postaci CNF, po ręcznej skolemizacji\n",
    "\n",
    "kb = And(\n",
    "    # (1) Jack kocha wszystkie zwierzęta → ¬Animal(Tuna) ∨ Loves(Jack, Tuna)\n",
    "    Or(Not(Animal(Tuna)), Loves(Jack, Tuna)),\n",
    "\n",
    "    # (2) Tuna jest zwierzęciem\n",
    "    Animal(Tuna),\n",
    "\n",
    "    # (3) Jack lub Jola zabili kota Tuna\n",
    "    Or(Kills(Jack, Tuna), Kills(Jola, Tuna)),\n",
    "\n",
    "    # (4) Nikt nie kocha tego, kto zabija zwierzę → rozpisane dla Jacka i Joli\n",
    "    Or(Not(Animal(Tuna)), Not(Kills(Jack, Tuna)), Not(Loves(\"Someone\", Jack))),\n",
    "    Or(Not(Animal(Tuna)), Not(Kills(Jola, Tuna)), Not(Loves(\"Someone\", Jola))),\n",
    "\n",
    "    # (5) Każdy, kto kocha wszystkie zwierzęta, jest przez kogoś kochany\n",
    "    # Rozpisane dla Jacka i Tuna (skolemizowane)\n",
    "    Or(Animal(Tuna), Loves(\"f\", Jack)),\n",
    "    Or(Not(Loves(Jack, Tuna)), Loves(\"f\", Jack))\n",
    ")\n",
    "\n",
    "# Negacja wniosku: zakładamy, że Jola NIE zabiła Tuny\n",
    "negated_conclusion = Not(Kills(Jola, Tuna))\n",
    "\n",
    "# Łączymy bazę wiedzy z negacją wniosku\n",
    "full_formula = And(kb, negated_conclusion)\n",
    "\n",
    "# Przekształcamy do CNF (można też wypisać: print(to_cnf(full_formula, simplify=True)))\n",
    "cnf = to_cnf(full_formula, simplify=True)\n",
    "\n",
    "# Sprawdzamy, czy formuła jest spełnialna\n",
    "result = satisfiable(cnf)\n",
    "\n",
    "# Interpretacja wyniku\n",
    "if not result:\n",
    "    print(\"Wniosek: Z KB wynika, że Jola zabiła kota Tuna.\")\n",
    "else:\n",
    "    print(\"Nie można jednoznacznie stwierdzić, że Jola zabiła kota Tuna.\")\n",
    "    print(\"Spełniające przypisanie:\", result)\n"
   ],
   "metadata": {
    "collapsed": false,
    "ExecuteTime": {
     "end_time": "2025-05-14T17:23:15.655365Z",
     "start_time": "2025-05-14T17:23:15.338149Z"
    }
   },
   "id": "84fe7b83ee22504d",
   "execution_count": 6
  },
  {
   "cell_type": "code",
   "outputs": [],
   "source": [],
   "metadata": {
    "collapsed": false,
    "ExecuteTime": {
     "end_time": "2025-05-14T17:23:15.665282Z",
     "start_time": "2025-05-14T17:23:15.659683Z"
    }
   },
   "id": "17891d06cc709ed7",
   "execution_count": 6
  }
 ],
 "metadata": {
  "kernelspec": {
   "display_name": "Python 3",
   "language": "python",
   "name": "python3"
  },
  "language_info": {
   "codemirror_mode": {
    "name": "ipython",
    "version": 2
   },
   "file_extension": ".py",
   "mimetype": "text/x-python",
   "name": "python",
   "nbconvert_exporter": "python",
   "pygments_lexer": "ipython2",
   "version": "2.7.6"
  }
 },
 "nbformat": 4,
 "nbformat_minor": 5
}
