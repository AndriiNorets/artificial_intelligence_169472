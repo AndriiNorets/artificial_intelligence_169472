{
 "cells": [
  {
   "cell_type": "markdown",
   "id": "13c8a45f93e7dcfb",
   "metadata": {},
   "source": [
    "# Zadanie 1"
   ]
  },
  {
   "cell_type": "code",
   "execution_count": 8,
   "id": "a0d075f3",
   "metadata": {
    "ExecuteTime": {
     "end_time": "2025-05-19T13:28:00.695290Z",
     "start_time": "2025-05-19T13:28:00.686443Z"
    }
   },
   "outputs": [],
   "source": [
    "def pl_true_symbols(s, m):\n",
    "    if isinstance(s, str):  \n",
    "        if s in m:\n",
    "            return m[s]\n",
    "        else:\n",
    "            raise ValueError(f\"Symbol '{s}' nie znaleziony w przypisaniu m.\")\n",
    "\n",
    "    elif isinstance(s, tuple):  \n",
    "        operator = s[0] \n",
    "\n",
    "        if operator == '~': # Negacja\n",
    "            if len(s) != 2:\n",
    "                raise ValueError(f\"Operator ~ oczekuje jednego argumentu, otrzymano {len(s)-1} dla {s}\")\n",
    "            val = pl_true_symbols(s[1], m)\n",
    "            return 1 - val\n",
    "\n",
    "        elif operator == '&': # Koniunkcja (AND)\n",
    "            if len(s) != 3:\n",
    "                raise ValueError(f\"Operator & oczekuje dwóch argumentów, otrzymano {len(s)-1} dla {s}\")\n",
    "            val1 = pl_true_symbols(s[1], m)\n",
    "            val2 = pl_true_symbols(s[2], m)\n",
    "            return 1 if val1 == 1 and val2 == 1 else 0\n",
    "\n",
    "        elif operator == '|': # Alternatywa (OR)\n",
    "            if len(s) != 3:\n",
    "                raise ValueError(f\"Operator | oczekuje dwóch argumentów, otrzymano {len(s)-1} dla {s}\")\n",
    "            val1 = pl_true_symbols(s[1], m)\n",
    "            val2 = pl_true_symbols(s[2], m)\n",
    "            return 1 if val1 == 1 or val2 == 1 else 0\n",
    "\n",
    "        elif operator == '->': # Implikacja\n",
    "            if len(s) != 3:\n",
    "                raise ValueError(f\"Operator -> oczekuje dwóch argumentów, otrzymano {len(s)-1} dla {s}\")\n",
    "            val1 = pl_true_symbols(s[1], m) \n",
    "            val2 = pl_true_symbols(s[2], m)\n",
    "            \n",
    "            # A -> B jest równoważne ~A | B\n",
    "            return 1 if (1 - val1) == 1 or val2 == 1 else 0\n",
    "\n",
    "\n",
    "        else:\n",
    "            raise ValueError(f\"Nieznany operator: {operator} w zdaniu {s}\")\n",
    "    else:\n",
    "        raise TypeError(f\"Nieprawidłowy format zdania S: {s}. Oczekiwano stringa lub krotki.\")\n",
    "\n"
   ]
  },
  {
   "cell_type": "markdown",
   "id": "fa8c8b53",
   "metadata": {},
   "source": [
    "### Przypadek 0: 0 spójników"
   ]
  },
  {
   "cell_type": "code",
   "execution_count": 9,
   "id": "326ed7e0",
   "metadata": {
    "ExecuteTime": {
     "end_time": "2025-05-19T13:28:00.747707Z",
     "start_time": "2025-05-19T13:28:00.743132Z"
    }
   },
   "outputs": [
    {
     "name": "stdout",
     "output_type": "stream",
     "text": [
      "Zdanie: p, Przypisanie: {'p': 1}, Wynik: 1\n"
     ]
    }
   ],
   "source": [
    "m0 = {'p': 1}\n",
    "s0 = 'p'\n",
    "print(f\"Zdanie: {s0}, Przypisanie: {m0}, Wynik: {pl_true_symbols(s0, m0)}\")"
   ]
  },
  {
   "cell_type": "markdown",
   "id": "3044c662",
   "metadata": {},
   "source": [
    "### Przypadek 1: 1 spójnik"
   ]
  },
  {
   "cell_type": "code",
   "execution_count": 10,
   "id": "ba345be2",
   "metadata": {
    "ExecuteTime": {
     "end_time": "2025-05-19T13:28:00.755017Z",
     "start_time": "2025-05-19T13:28:00.749716Z"
    }
   },
   "outputs": [
    {
     "name": "stdout",
     "output_type": "stream",
     "text": [
      "Zdanie: ('~', 'p'), Przypisanie: {'p': 0}, Wynik: 1\n"
     ]
    }
   ],
   "source": [
    "m1a = {'p': 0}\n",
    "s1a = ('~', 'p')\n",
    "print(f\"Zdanie: {s1a}, Przypisanie: {m1a}, Wynik: {pl_true_symbols(s1a, m1a)}\")"
   ]
  },
  {
   "cell_type": "code",
   "execution_count": 11,
   "id": "52f66dbd",
   "metadata": {
    "ExecuteTime": {
     "end_time": "2025-05-19T13:28:00.766629Z",
     "start_time": "2025-05-19T13:28:00.761543Z"
    }
   },
   "outputs": [
    {
     "name": "stdout",
     "output_type": "stream",
     "text": [
      "Zdanie: ('&', 'p', 'q'), Przypisanie: {'p': 1, 'q': 1}, Wynik: 1\n"
     ]
    }
   ],
   "source": [
    "m1b = {'p': 1, 'q': 1}\n",
    "s1b = ('&', 'p', 'q')\n",
    "print(f\"Zdanie: {s1b}, Przypisanie: {m1b}, Wynik: {pl_true_symbols(s1b, m1b)}\")"
   ]
  },
  {
   "cell_type": "markdown",
   "id": "85713100",
   "metadata": {},
   "source": [
    "### Przypadek 2: 2 spójniki"
   ]
  },
  {
   "cell_type": "code",
   "execution_count": 12,
   "id": "b9fe3b2f",
   "metadata": {
    "ExecuteTime": {
     "end_time": "2025-05-19T13:28:00.792736Z",
     "start_time": "2025-05-19T13:28:00.786440Z"
    }
   },
   "outputs": [
    {
     "name": "stdout",
     "output_type": "stream",
     "text": [
      "Zdanie: ('->', ('|', 'p', ('~', 'q')), 'r'), Przypisanie: {'p': 0, 'q': 1, 'r': 0}, Wynik: 1\n"
     ]
    }
   ],
   "source": [
    "m2 = {'p': 0, 'q': 1, 'r': 0} \n",
    "s2 = ('->', ('|', 'p', ('~', 'q')), 'r')\n",
    "print(f\"Zdanie: {s2}, Przypisanie: {m2}, Wynik: {pl_true_symbols(s2, m2)}\")"
   ]
  },
  {
   "cell_type": "code",
   "execution_count": 13,
   "id": "2b2d2392",
   "metadata": {
    "ExecuteTime": {
     "end_time": "2025-05-19T13:28:00.842322Z",
     "start_time": "2025-05-19T13:28:00.837788Z"
    }
   },
   "outputs": [
    {
     "name": "stdout",
     "output_type": "stream",
     "text": [
      "Zdanie: ('->', ('&', 'p', ('~', 'q')), 'r'), Przypisanie: {'p': 1, 'q': 0, 'r': 0}, Wynik: 0\n"
     ]
    }
   ],
   "source": [
    "m2_v2 = {'p': 1, 'q': 0, 'r': 0} \n",
    "s2_v2 = ('->', ('&', 'p', ('~', 'q')), 'r')\n",
    "print(f\"Zdanie: {s2_v2}, Przypisanie: {m2_v2}, Wynik: {pl_true_symbols(s2_v2, m2_v2)}\")"
   ]
  },
  {
   "cell_type": "markdown",
   "id": "b5843366",
   "metadata": {},
   "source": [
    "# Zadanie 2"
   ]
  },
  {
   "cell_type": "code",
   "execution_count": 11,
   "id": "51f2cf25",
   "metadata": {
    "ExecuteTime": {
     "end_time": "2025-05-19T13:28:00.877568Z",
     "start_time": "2025-05-19T13:28:00.874885Z"
    }
   },
   "outputs": [
    {
     "name": "stdout",
     "output_type": "stream",
     "text": [
      "Sprawdzanie: KB ⊨ -P12? (czy można to logicznie udowodnić?)\n",
      "\n",
      "  ❗ Wykryto sprzeczność (pusta klauzula).\n",
      "✅ KB ⊨ -P12 — WNIOSEK UDOWODNIONY.\n",
      "Wniosek udowodniony!\n"
     ]
    }
   ],
   "source": [
    "# Funkcja wykonująca rezolucję dwóch klauzul\n",
    "def resolve(c1, c2):\n",
    "    resolvents = set()  # Zbiór na nowe klauzule \n",
    "\n",
    "    # Przechodzimy przez każdy literał w pierwszej klauzuli\n",
    "    for lit in c1:\n",
    "        # Tworzymy przeciwny literał \n",
    "        neg = '-' + lit if not lit.startswith('-') else lit[1:]\n",
    "\n",
    "        # Jeśli przeciwny literał znajduje się w drugiej klauzuli, możemy zastosować rezolucję\n",
    "        if neg in c2:\n",
    "            # Tworzymy nową klauzulę bez tych dwóch przeciwnych liter\n",
    "            new_clause = (c1 - {lit}) | (c2 - {neg})\n",
    "\n",
    "            # Sprawdzamy, czy nowa klauzula nie jest tautologią (czy nie zawiera P12 i -P12 naraz)\n",
    "            if not any(l in new_clause and ('-' + l) in new_clause for l in new_clause):\n",
    "                resolvents.add(frozenset(new_clause))  # Dodajemy nową klauzulę jako frozenset\n",
    "\n",
    "    return resolvents  # Zwracamy wszystkie nowe klauzule wygenerowane z tej pary\n",
    "\n",
    "# Funkcja główna realizująca algorytm rezolucji\n",
    "def pl_resolution(clauses, alpha):\n",
    "    # Negujemy α (np. jeśli chcemy dowieść -P12, to dodajemy P12 do KB)\n",
    "    neg_alpha = alpha[1:] if alpha.startswith('-') else '-' + alpha\n",
    "\n",
    "    # Tworzymy kopię zbioru klauzul i dodajemy ¬α\n",
    "    clauses = set(clauses)\n",
    "    clauses.add(frozenset([neg_alpha]))\n",
    "\n",
    "    print(f\"Sprawdzanie: KB ⊨ {alpha}? (czy można to logicznie udowodnić?)\\n\")\n",
    "\n",
    "    while True:\n",
    "        new = set()  # Zbiór nowych klauzul w tej iteracji\n",
    "\n",
    "        clause_list = list(clauses)  # Konwertujemy zbiór na listę, aby iterować po parach\n",
    "\n",
    "        # Dla każdej pary klauzul generujemy rezolwenty\n",
    "        for i in range(len(clause_list)):\n",
    "            for j in range(i + 1, len(clause_list)):\n",
    "                resolvents = resolve(clause_list[i], clause_list[j])\n",
    "\n",
    "                # Jeśli wśród rezolwentów jest pusty zbiór → sprzeczność → udowodniono\n",
    "                if frozenset() in resolvents:\n",
    "                    print(\"  ❗ Wykryto sprzeczność (pusta klauzula).\")\n",
    "                    print(f\"✅ KB ⊨ {alpha} — WNIOSEK UDOWODNIONY.\")\n",
    "                    return True\n",
    "\n",
    "                # Dodajemy wszystkie nowe klauzule\n",
    "                new |= resolvents\n",
    "\n",
    "        # Jeśli nie ma nowych klauzul — nic więcej nie da się wywnioskować\n",
    "        if new <= clauses:\n",
    "            print(\"Brak nowych wniosków. Sprzeczność nie została znaleziona.\")\n",
    "            print(f\"KB ⊭ {alpha} — WNIOSEK NIEUDOWODNIONY.\")\n",
    "            return False\n",
    "\n",
    "        # Aktualizujemy bazę wiedzy o nowe klauzule\n",
    "        clauses |= new\n",
    "\n",
    "# ----------------------------\n",
    "# Przykład bazy wiedzy (KB):\n",
    "# ----------------------------\n",
    "kb = [\n",
    "    frozenset(['-B11', 'P12', 'P21']),  # Jeśli nie ma smoka w B11, to albo w P12, albo w P21\n",
    "    frozenset(['-P12', 'B11']),         # Jeśli nie ma smoka w P12, to w B11 jest\n",
    "    frozenset(['-P21', 'B11']),         # Jeśli nie ma smoka w P21, to w B11 jest\n",
    "    frozenset(['-B11']),                # Nie ma smoka w B11\n",
    "]\n",
    "\n",
    "alpha = '-P12'  \n",
    "result = pl_resolution(kb, alpha)\n",
    "print(\"Wniosek udowodniony!\" if result else \"Wniosek nieudowodniony.\")"
   ]
  },
  {
   "cell_type": "markdown",
   "id": "06106b07",
   "metadata": {},
   "source": [
    "# Zadanie 9"
   ]
  },
  {
   "cell_type": "markdown",
   "id": "58e1dccb9f60e2de",
   "metadata": {},
   "source": [
    "Oznaczenia (predykaty i stałe):\n",
    "\n",
    "  Loves(x,y): x kocha y\n",
    "\n",
    "  Kills(x,y): x zabija y\n",
    "\n",
    "  Animal(y): y jest zwierzęciem\n",
    "\n",
    "  Tuna: kot Tuna (stała)\n",
    "\n",
    "  Jack, Jola: osoby (stałe)\n",
    "\n",
    "  ∀, ∃: kwantyfikatory ogólny i szczegółowy\n",
    "    \n",
    "Wiedza ogólna (KB):\n",
    "1. Każdy, kto kocha wszystkie zwierzęta, jest przez kogoś kochany.\n",
    "    ∀x[(∀y(Animal(y)→Loves(x,y)))→(∃zLoves(z,x))]\n",
    "2. Nikt nie kocha tego, kto zabija zwierzę.\n",
    "    ∀x∀y∃z[(Animal(z)∧Kills(y,z))→¬Loves(x,y)]\n",
    "3. Jack kocha wszystkie zwierzęta.\n",
    "    ∀y(Animal(y)→Loves(Jack,y))\n",
    "4. Albo Jack, albo Jola zabili kota Tuna.\n",
    "    Kills(Jack,Tuna)∨Kills(Jola,Tuna)\n",
    "5. Tuna jest zwierzęciem.\n",
    "    Animal(Tuna)\n",
    "\n"
   ]
  },
  {
   "cell_type": "code",
   "execution_count": 14,
   "id": "84fe7b83ee22504d",
   "metadata": {
    "ExecuteTime": {
     "end_time": "2025-05-19T13:28:00.987429Z",
     "start_time": "2025-05-19T13:28:00.973784Z"
    }
   },
   "outputs": [
    {
     "name": "stdout",
     "output_type": "stream",
     "text": [
      "Wniosek: Z KB logicznie wynika, że Jola zabiła kota Tuna.\n"
     ]
    }
   ],
   "source": [
    "from sympy import symbols, Or, And, Not\n",
    "from sympy.logic.boolalg import to_cnf\n",
    "from sympy.logic.inference import satisfiable\n",
    "\n",
    "# Predykaty jako funkcje\n",
    "Loves = lambda x, y: symbols(f\"Loves_{x}_{y}\")\n",
    "Kills = lambda x, y: symbols(f\"Kills_{x}_{y}\")\n",
    "Animal = lambda x: symbols(f\"Animal_{x}\")\n",
    "\n",
    "# Stałe (osoby i kot)\n",
    "Jack = \"Jack\"\n",
    "Jola = \"Jola\"\n",
    "Tuna = \"Tuna\"\n",
    "Someone = \"Someone\"\n",
    "\n",
    "Skolem1 = \"Skolem1\"\n",
    "\n",
    "# KB: baza wiedzy w postaci CNF, po ręcznej skolemizacji\n",
    "\n",
    "kb = And(\n",
    "    # (1) Każdy, kto kocha wszystkie zwierzęta, jest przez kogoś kochany\n",
    "    # Wersja po skolemizacji dla Jacka i Tuna:\n",
    "    Or(Not(Loves(Jack, Tuna)), Loves(Skolem1, Jack)),\n",
    "\n",
    "    # (2) Nikt nie kocha tego, kto zabija zwierzę\n",
    "    # Zapisane dla Jacka i Joli oraz Tuna\n",
    "    Or(Not(Animal(Tuna)), Not(Kills(Jack, Tuna)), Not(Loves(\"Someone\", Jack))),\n",
    "    Or(Not(Animal(Tuna)), Not(Kills(Jola, Tuna)), Not(Loves(\"Someone\", Jola))),\n",
    "\n",
    "    # (3) Jack kocha wszystkie zwierzęta\n",
    "    # Dla Tuny: jeśli jest zwierzęciem, to Jack ją kocha\n",
    "    Or(Not(Animal(Tuna)), Loves(Jack, Tuna)),\n",
    "\n",
    "    # (4) Jack lub Jola zabili kota Tuna\n",
    "    Or(Kills(Jack, Tuna), Kills(Jola, Tuna)),\n",
    "\n",
    "    # (5) Tuna jest zwierzęciem\n",
    "    Animal(Tuna),\n",
    "    \n",
    "    # (6) Ktoś (Someone) kocha Jacka – dodane, żeby wymusić konsekwencję\n",
    "    Loves(Someone, Jack)\n",
    ")\n",
    "\n",
    "# Negacja wniosku: zakładamy, że Jola NIE zabiła Tuny\n",
    "negated_conclusion = Not(Kills(Jola, Tuna))\n",
    "\n",
    "# Połącz KB z negacją wniosku\n",
    "full_formula = And(kb, negated_conclusion)\n",
    "\n",
    "# Przekształć do CNF\n",
    "cnf = to_cnf(full_formula, simplify=True)\n",
    "\n",
    "# Sprawdzenie, czy formuła jest spełnialna (czyli: czy KB ∧ ¬wniosek jest spójna)\n",
    "result = satisfiable(cnf)\n",
    "\n",
    "# Interpretacja wyniku\n",
    "if not result:\n",
    "    print(\"Wniosek: Z KB logicznie wynika, że Jola zabiła kota Tuna.\")\n",
    "else:\n",
    "    print(\"Wniosek: Nie można jednoznacznie stwierdzić, że Jola zabiła kota Tuna.\")\n",
    "    print(\"Spełniające przypisanie (przykład):\", result)\n"
   ]
  },
  {
   "cell_type": "markdown",
   "id": "6e72540243fd302e",
   "metadata": {},
   "source": [
    "Zdanie:\n",
    "\n",
    "    „Jack kocha wszystkie zwierzęta” i „Nikt nie kocha tych, co zabijają zwierzęta”\n",
    "\n",
    "nie zakazuje Jackowi zabijać zwierząt, tylko implikuje, że nikt go wtedy nie będzie kochał. Ale to nie daje sprzeczności, jeśli nikt go i tak nie kocha (np. Loves(Someone, Jack) = False).\n",
    "\n",
    "W tym celu dodałem kaluzulę nr 6 - wymusza ona, że ktoś kocha Jacka"
   ]
  },
  {
   "cell_type": "code",
   "execution_count": 14,
   "id": "c983ef10b2ec20f0",
   "metadata": {
    "ExecuteTime": {
     "end_time": "2025-05-19T13:28:01.011213Z",
     "start_time": "2025-05-19T13:28:01.007703Z"
    }
   },
   "outputs": [],
   "source": []
  }
 ],
 "metadata": {
  "kernelspec": {
   "display_name": "Python 3 (ipykernel)",
   "language": "python",
   "name": "python3"
  },
  "language_info": {
   "codemirror_mode": {
    "name": "ipython",
    "version": 3
   },
   "file_extension": ".py",
   "mimetype": "text/x-python",
   "name": "python",
   "nbconvert_exporter": "python",
   "pygments_lexer": "ipython3",
   "version": "3.11.3"
  }
 },
 "nbformat": 4,
 "nbformat_minor": 5
}
