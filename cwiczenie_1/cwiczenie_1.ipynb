{
 "cells": [
  {
   "cell_type": "code",
   "execution_count": 1,
   "id": "19553a73",
   "metadata": {},
   "outputs": [],
   "source": [
    "import pandas as pd"
   ]
  },
  {
   "cell_type": "code",
   "execution_count": 2,
   "id": "408138f8",
   "metadata": {},
   "outputs": [
    {
     "data": {
      "text/html": [
       "<div>\n",
       "<style scoped>\n",
       "    .dataframe tbody tr th:only-of-type {\n",
       "        vertical-align: middle;\n",
       "    }\n",
       "\n",
       "    .dataframe tbody tr th {\n",
       "        vertical-align: top;\n",
       "    }\n",
       "\n",
       "    .dataframe thead th {\n",
       "        text-align: right;\n",
       "    }\n",
       "</style>\n",
       "<table border=\"1\" class=\"dataframe\">\n",
       "  <thead>\n",
       "    <tr style=\"text-align: right;\">\n",
       "      <th></th>\n",
       "      <th>nazwa systemu</th>\n",
       "      <th>liczba atrybutow</th>\n",
       "      <th>liczba obiektow</th>\n",
       "    </tr>\n",
       "  </thead>\n",
       "  <tbody>\n",
       "    <tr>\n",
       "      <th>0</th>\n",
       "      <td>australian</td>\n",
       "      <td>15</td>\n",
       "      <td>690</td>\n",
       "    </tr>\n",
       "    <tr>\n",
       "      <th>1</th>\n",
       "      <td>car</td>\n",
       "      <td>7</td>\n",
       "      <td>1728</td>\n",
       "    </tr>\n",
       "    <tr>\n",
       "      <th>2</th>\n",
       "      <td>fertilityDiagnosis</td>\n",
       "      <td>10</td>\n",
       "      <td>100</td>\n",
       "    </tr>\n",
       "    <tr>\n",
       "      <th>3</th>\n",
       "      <td>german-credit</td>\n",
       "      <td>21</td>\n",
       "      <td>1000</td>\n",
       "    </tr>\n",
       "    <tr>\n",
       "      <th>4</th>\n",
       "      <td>heartdisease</td>\n",
       "      <td>14</td>\n",
       "      <td>270</td>\n",
       "    </tr>\n",
       "    <tr>\n",
       "      <th>5</th>\n",
       "      <td>hepatitis-filled</td>\n",
       "      <td>20</td>\n",
       "      <td>155</td>\n",
       "    </tr>\n",
       "    <tr>\n",
       "      <th>6</th>\n",
       "      <td>house-votes-84</td>\n",
       "      <td>17</td>\n",
       "      <td>435</td>\n",
       "    </tr>\n",
       "    <tr>\n",
       "      <th>7</th>\n",
       "      <td>mushroom-modified-filled</td>\n",
       "      <td>23</td>\n",
       "      <td>8124</td>\n",
       "    </tr>\n",
       "    <tr>\n",
       "      <th>8</th>\n",
       "      <td>nursery</td>\n",
       "      <td>9</td>\n",
       "      <td>12960</td>\n",
       "    </tr>\n",
       "    <tr>\n",
       "      <th>9</th>\n",
       "      <td>diabetes</td>\n",
       "      <td>9</td>\n",
       "      <td>768</td>\n",
       "    </tr>\n",
       "    <tr>\n",
       "      <th>10</th>\n",
       "      <td>soybean-large-all-filled</td>\n",
       "      <td>36</td>\n",
       "      <td>683</td>\n",
       "    </tr>\n",
       "    <tr>\n",
       "      <th>11</th>\n",
       "      <td>SPECT-all-modif</td>\n",
       "      <td>23</td>\n",
       "      <td>267</td>\n",
       "    </tr>\n",
       "    <tr>\n",
       "      <th>12</th>\n",
       "      <td>SPECTF-all-modif</td>\n",
       "      <td>45</td>\n",
       "      <td>267</td>\n",
       "    </tr>\n",
       "  </tbody>\n",
       "</table>\n",
       "</div>"
      ],
      "text/plain": [
       "               nazwa systemu  liczba atrybutow  liczba obiektow\n",
       "0                 australian                15              690\n",
       "1                        car                 7             1728\n",
       "2         fertilityDiagnosis                10              100\n",
       "3              german-credit                21             1000\n",
       "4               heartdisease                14              270\n",
       "5           hepatitis-filled                20              155\n",
       "6             house-votes-84                17              435\n",
       "7   mushroom-modified-filled                23             8124\n",
       "8                    nursery                 9            12960\n",
       "9                   diabetes                 9              768\n",
       "10  soybean-large-all-filled                36              683\n",
       "11           SPECT-all-modif                23              267\n",
       "12          SPECTF-all-modif                45              267"
      ]
     },
     "execution_count": 2,
     "metadata": {},
     "output_type": "execute_result"
    }
   ],
   "source": [
    "df = pd.read_csv('_info-data-discrete.txt', sep=' ', header=None, names=[\"nazwa systemu\", \"liczba atrybutow\", \"liczba obiektow\"])\n",
    "df"
   ]
  },
  {
   "cell_type": "code",
   "execution_count": 3,
   "id": "c5479a85",
   "metadata": {},
   "outputs": [
    {
     "data": {
      "text/html": [
       "<div>\n",
       "<style scoped>\n",
       "    .dataframe tbody tr th:only-of-type {\n",
       "        vertical-align: middle;\n",
       "    }\n",
       "\n",
       "    .dataframe tbody tr th {\n",
       "        vertical-align: top;\n",
       "    }\n",
       "\n",
       "    .dataframe thead th {\n",
       "        text-align: right;\n",
       "    }\n",
       "</style>\n",
       "<table border=\"1\" class=\"dataframe\">\n",
       "  <thead>\n",
       "    <tr style=\"text-align: right;\">\n",
       "      <th></th>\n",
       "      <th>vhigh</th>\n",
       "      <th>vhigh.1</th>\n",
       "      <th>2</th>\n",
       "      <th>2.1</th>\n",
       "      <th>small</th>\n",
       "      <th>low</th>\n",
       "      <th>unacc</th>\n",
       "    </tr>\n",
       "  </thead>\n",
       "  <tbody>\n",
       "    <tr>\n",
       "      <th>0</th>\n",
       "      <td>vhigh</td>\n",
       "      <td>vhigh</td>\n",
       "      <td>2</td>\n",
       "      <td>2</td>\n",
       "      <td>small</td>\n",
       "      <td>med</td>\n",
       "      <td>unacc</td>\n",
       "    </tr>\n",
       "    <tr>\n",
       "      <th>1</th>\n",
       "      <td>vhigh</td>\n",
       "      <td>vhigh</td>\n",
       "      <td>2</td>\n",
       "      <td>2</td>\n",
       "      <td>small</td>\n",
       "      <td>high</td>\n",
       "      <td>unacc</td>\n",
       "    </tr>\n",
       "    <tr>\n",
       "      <th>2</th>\n",
       "      <td>vhigh</td>\n",
       "      <td>vhigh</td>\n",
       "      <td>2</td>\n",
       "      <td>2</td>\n",
       "      <td>med</td>\n",
       "      <td>low</td>\n",
       "      <td>unacc</td>\n",
       "    </tr>\n",
       "    <tr>\n",
       "      <th>3</th>\n",
       "      <td>vhigh</td>\n",
       "      <td>vhigh</td>\n",
       "      <td>2</td>\n",
       "      <td>2</td>\n",
       "      <td>med</td>\n",
       "      <td>med</td>\n",
       "      <td>unacc</td>\n",
       "    </tr>\n",
       "    <tr>\n",
       "      <th>4</th>\n",
       "      <td>vhigh</td>\n",
       "      <td>vhigh</td>\n",
       "      <td>2</td>\n",
       "      <td>2</td>\n",
       "      <td>med</td>\n",
       "      <td>high</td>\n",
       "      <td>unacc</td>\n",
       "    </tr>\n",
       "    <tr>\n",
       "      <th>...</th>\n",
       "      <td>...</td>\n",
       "      <td>...</td>\n",
       "      <td>...</td>\n",
       "      <td>...</td>\n",
       "      <td>...</td>\n",
       "      <td>...</td>\n",
       "      <td>...</td>\n",
       "    </tr>\n",
       "    <tr>\n",
       "      <th>1722</th>\n",
       "      <td>low</td>\n",
       "      <td>low</td>\n",
       "      <td>5more</td>\n",
       "      <td>more</td>\n",
       "      <td>med</td>\n",
       "      <td>med</td>\n",
       "      <td>good</td>\n",
       "    </tr>\n",
       "    <tr>\n",
       "      <th>1723</th>\n",
       "      <td>low</td>\n",
       "      <td>low</td>\n",
       "      <td>5more</td>\n",
       "      <td>more</td>\n",
       "      <td>med</td>\n",
       "      <td>high</td>\n",
       "      <td>vgood</td>\n",
       "    </tr>\n",
       "    <tr>\n",
       "      <th>1724</th>\n",
       "      <td>low</td>\n",
       "      <td>low</td>\n",
       "      <td>5more</td>\n",
       "      <td>more</td>\n",
       "      <td>big</td>\n",
       "      <td>low</td>\n",
       "      <td>unacc</td>\n",
       "    </tr>\n",
       "    <tr>\n",
       "      <th>1725</th>\n",
       "      <td>low</td>\n",
       "      <td>low</td>\n",
       "      <td>5more</td>\n",
       "      <td>more</td>\n",
       "      <td>big</td>\n",
       "      <td>med</td>\n",
       "      <td>good</td>\n",
       "    </tr>\n",
       "    <tr>\n",
       "      <th>1726</th>\n",
       "      <td>low</td>\n",
       "      <td>low</td>\n",
       "      <td>5more</td>\n",
       "      <td>more</td>\n",
       "      <td>big</td>\n",
       "      <td>high</td>\n",
       "      <td>vgood</td>\n",
       "    </tr>\n",
       "  </tbody>\n",
       "</table>\n",
       "<p>1727 rows × 7 columns</p>\n",
       "</div>"
      ],
      "text/plain": [
       "      vhigh vhigh.1      2   2.1  small   low  unacc\n",
       "0     vhigh   vhigh      2     2  small   med  unacc\n",
       "1     vhigh   vhigh      2     2  small  high  unacc\n",
       "2     vhigh   vhigh      2     2    med   low  unacc\n",
       "3     vhigh   vhigh      2     2    med   med  unacc\n",
       "4     vhigh   vhigh      2     2    med  high  unacc\n",
       "...     ...     ...    ...   ...    ...   ...    ...\n",
       "1722    low     low  5more  more    med   med   good\n",
       "1723    low     low  5more  more    med  high  vgood\n",
       "1724    low     low  5more  more    big   low  unacc\n",
       "1725    low     low  5more  more    big   med   good\n",
       "1726    low     low  5more  more    big  high  vgood\n",
       "\n",
       "[1727 rows x 7 columns]"
      ]
     },
     "execution_count": 3,
     "metadata": {},
     "output_type": "execute_result"
    }
   ],
   "source": [
    "systems_info = pd.read_csv('dane/car.txt', sep=' ')\n",
    "systems_info"
   ]
  },
  {
   "cell_type": "code",
   "execution_count": 4,
   "id": "32a20cc6",
   "metadata": {},
   "outputs": [
    {
     "data": {
      "text/html": [
       "<div>\n",
       "<style scoped>\n",
       "    .dataframe tbody tr th:only-of-type {\n",
       "        vertical-align: middle;\n",
       "    }\n",
       "\n",
       "    .dataframe tbody tr th {\n",
       "        vertical-align: top;\n",
       "    }\n",
       "\n",
       "    .dataframe thead th {\n",
       "        text-align: right;\n",
       "    }\n",
       "</style>\n",
       "<table border=\"1\" class=\"dataframe\">\n",
       "  <thead>\n",
       "    <tr style=\"text-align: right;\">\n",
       "      <th></th>\n",
       "      <th>Attribute</th>\n",
       "      <th>Type</th>\n",
       "    </tr>\n",
       "  </thead>\n",
       "  <tbody>\n",
       "    <tr>\n",
       "      <th>0</th>\n",
       "      <td>a1</td>\n",
       "      <td>s</td>\n",
       "    </tr>\n",
       "    <tr>\n",
       "      <th>1</th>\n",
       "      <td>a2</td>\n",
       "      <td>s</td>\n",
       "    </tr>\n",
       "    <tr>\n",
       "      <th>2</th>\n",
       "      <td>a3</td>\n",
       "      <td>s</td>\n",
       "    </tr>\n",
       "    <tr>\n",
       "      <th>3</th>\n",
       "      <td>a4</td>\n",
       "      <td>s</td>\n",
       "    </tr>\n",
       "    <tr>\n",
       "      <th>4</th>\n",
       "      <td>a5</td>\n",
       "      <td>s</td>\n",
       "    </tr>\n",
       "    <tr>\n",
       "      <th>5</th>\n",
       "      <td>a6</td>\n",
       "      <td>s</td>\n",
       "    </tr>\n",
       "  </tbody>\n",
       "</table>\n",
       "</div>"
      ],
      "text/plain": [
       "  Attribute Type\n",
       "0        a1    s\n",
       "1        a2    s\n",
       "2        a3    s\n",
       "3        a4    s\n",
       "4        a5    s\n",
       "5        a6    s"
      ]
     },
     "execution_count": 4,
     "metadata": {},
     "output_type": "execute_result"
    }
   ],
   "source": [
    "attributes_type = pd.read_csv(\"dane/car-type.txt\", sep=\" \", header=None, names=[\"Attribute\", \"Type\"])\n",
    "attributes_type"
   ]
  },
  {
   "cell_type": "markdown",
   "id": "caae2af2",
   "metadata": {},
   "source": [
    "# 3) Wczytujemy wybrany system np. w C++ i zdobywamy następujące informacje o systemie (load selected decision system for instance in C++ and find the information):"
   ]
  },
  {
   "cell_type": "markdown",
   "id": "76a0e9e9",
   "metadata": {},
   "source": [
    "## a) wypisujemy istniejące w systemie symbole klas decyzyjnych (find available decision classes),"
   ]
  },
  {
   "cell_type": "code",
   "execution_count": 5,
   "id": "88b7b0b9",
   "metadata": {},
   "outputs": [
    {
     "name": "stdout",
     "output_type": "stream",
     "text": [
      "Symbole klas decyzyjnych: ['unacc' 'acc' 'vgood' 'good']\n"
     ]
    }
   ],
   "source": [
    "decision_classes = systems_info.iloc[:, -1].unique()\n",
    "print(\"Symbole klas decyzyjnych:\", decision_classes)"
   ]
  },
  {
   "cell_type": "markdown",
   "id": "4c815026",
   "metadata": {},
   "source": [
    "## b) wielkości klas decyzyjnych (liczby obiektów w klasach) (find size of decision classes (number of objects in classes) ),"
   ]
  },
  {
   "cell_type": "code",
   "execution_count": 6,
   "id": "889803a9",
   "metadata": {},
   "outputs": [
    {
     "name": "stdout",
     "output_type": "stream",
     "text": [
      "Liczba obiektó w klasach:\n",
      " unacc    1209\n",
      "acc       384\n",
      "good       69\n",
      "vgood      65\n",
      "Name: unacc, dtype: int64\n"
     ]
    }
   ],
   "source": [
    "class_counts = systems_info.iloc[:, -1].value_counts()\n",
    "print(\"Liczba obiektó w klasach:\\n\", class_counts)"
   ]
  },
  {
   "cell_type": "markdown",
   "id": "6721d5d6",
   "metadata": {},
   "source": [
    "## c) minimalne i maksymalne wartości poszczególnych atrybutów(dotyczy atrybutów numerycznych) (minimal and maximal values for each attribute - apply for numerical attributes),"
   ]
  },
  {
   "cell_type": "code",
   "execution_count": null,
   "id": "a7fd5a53",
   "metadata": {},
   "outputs": [],
   "source": []
  },
  {
   "cell_type": "markdown",
   "id": "2a6404f6",
   "metadata": {},
   "source": [
    "## d) dla każdego atrybutu wypisujemy liczbę różnych dostępnych wartości (for each attribute detect the number of different available values),"
   ]
  },
  {
   "cell_type": "code",
   "execution_count": 7,
   "id": "07057756",
   "metadata": {},
   "outputs": [
    {
     "name": "stdout",
     "output_type": "stream",
     "text": [
      "Columna 'vhigh' zawiera 4 unikalne wartości\n",
      "Columna 'vhigh.1' zawiera 4 unikalne wartości\n",
      "Columna '2' zawiera 4 unikalne wartości\n",
      "Columna '2.1' zawiera 3 unikalne wartości\n",
      "Columna 'small' zawiera 3 unikalne wartości\n",
      "Columna 'low' zawiera 3 unikalne wartości\n"
     ]
    }
   ],
   "source": [
    "for column in systems_info.columns[:-1]:\n",
    "    print(f\"Columna '{column}' zawiera {systems_info[column].nunique()} unikalne wartości\")\n"
   ]
  },
  {
   "cell_type": "markdown",
   "id": "ea9d5358",
   "metadata": {},
   "source": [
    "## e) dla każdego atrybutu wypisujemy listę wszystkich różnych dostępnych wartości(for each attribute list the set of different, available values),"
   ]
  },
  {
   "cell_type": "code",
   "execution_count": 8,
   "id": "21739327",
   "metadata": {},
   "outputs": [
    {
     "name": "stdout",
     "output_type": "stream",
     "text": [
      "Atrybut 'vhigh': ['vhigh' 'high' 'med' 'low']\n",
      "Atrybut 'vhigh.1': ['vhigh' 'high' 'med' 'low']\n",
      "Atrybut '2': ['2' '3' '4' '5more']\n",
      "Atrybut '2.1': ['2' '4' 'more']\n",
      "Atrybut 'small': ['small' 'med' 'big']\n",
      "Atrybut 'low': ['med' 'high' 'low']\n"
     ]
    }
   ],
   "source": [
    "for column in systems_info.columns[:-1]:\n",
    "    print(f\"Atrybut '{column}': {systems_info[column].unique()}\")"
   ]
  },
  {
   "cell_type": "markdown",
   "id": "e9d5f25c",
   "metadata": {},
   "source": [
    "## f)odchylenie standardowe dla poszczególnych atrybutów w całym systemie i w klasach decyzyjnych (dotyczy atrybutów numerycznych) (compute standard deviation for each attribute in the whole system and separately for each decision class)."
   ]
  },
  {
   "cell_type": "code",
   "execution_count": null,
   "id": "0c931664",
   "metadata": {},
   "outputs": [],
   "source": []
  },
  {
   "cell_type": "markdown",
   "id": "582894e7",
   "metadata": {},
   "source": [
    "# 4) Wykonaj dla wybranych danych następujący preprocessing (do for selected data the following preprocessing):"
   ]
  },
  {
   "cell_type": "code",
   "execution_count": null,
   "id": "3f8a2ce7",
   "metadata": {},
   "outputs": [],
   "source": []
  }
 ],
 "metadata": {
  "kernelspec": {
   "display_name": "Python 3 (ipykernel)",
   "language": "python",
   "name": "python3"
  },
  "language_info": {
   "codemirror_mode": {
    "name": "ipython",
    "version": 3
   },
   "file_extension": ".py",
   "mimetype": "text/x-python",
   "name": "python",
   "nbconvert_exporter": "python",
   "pygments_lexer": "ipython3",
   "version": "3.11.3"
  }
 },
 "nbformat": 4,
 "nbformat_minor": 5
}
