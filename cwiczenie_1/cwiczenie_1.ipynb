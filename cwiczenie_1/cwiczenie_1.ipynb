{
 "cells": [
  {
   "cell_type": "code",
   "execution_count": 68,
   "id": "19553a73",
   "metadata": {
    "ExecuteTime": {
     "end_time": "2025-03-05T10:07:07.206690Z",
     "start_time": "2025-03-05T10:07:07.200520Z"
    }
   },
   "outputs": [],
   "source": [
    "import pandas as pd"
   ]
  },
  {
   "cell_type": "code",
   "execution_count": 69,
   "id": "408138f8",
   "metadata": {
    "ExecuteTime": {
     "end_time": "2025-03-05T10:07:07.290282Z",
     "start_time": "2025-03-05T10:07:07.275074Z"
    }
   },
   "outputs": [
    {
     "data": {
      "text/plain": "               nazwa systemu  liczba atrybutow  liczba obiektow\n0                 australian                15              690\n1                        car                 7             1728\n2         fertilityDiagnosis                10              100\n3              german-credit                21             1000\n4               heartdisease                14              270\n5           hepatitis-filled                20              155\n6             house-votes-84                17              435\n7   mushroom-modified-filled                23             8124\n8                    nursery                 9            12960\n9                   diabetes                 9              768\n10  soybean-large-all-filled                36              683\n11           SPECT-all-modif                23              267\n12          SPECTF-all-modif                45              267",
      "text/html": "<div>\n<style scoped>\n    .dataframe tbody tr th:only-of-type {\n        vertical-align: middle;\n    }\n\n    .dataframe tbody tr th {\n        vertical-align: top;\n    }\n\n    .dataframe thead th {\n        text-align: right;\n    }\n</style>\n<table border=\"1\" class=\"dataframe\">\n  <thead>\n    <tr style=\"text-align: right;\">\n      <th></th>\n      <th>nazwa systemu</th>\n      <th>liczba atrybutow</th>\n      <th>liczba obiektow</th>\n    </tr>\n  </thead>\n  <tbody>\n    <tr>\n      <th>0</th>\n      <td>australian</td>\n      <td>15</td>\n      <td>690</td>\n    </tr>\n    <tr>\n      <th>1</th>\n      <td>car</td>\n      <td>7</td>\n      <td>1728</td>\n    </tr>\n    <tr>\n      <th>2</th>\n      <td>fertilityDiagnosis</td>\n      <td>10</td>\n      <td>100</td>\n    </tr>\n    <tr>\n      <th>3</th>\n      <td>german-credit</td>\n      <td>21</td>\n      <td>1000</td>\n    </tr>\n    <tr>\n      <th>4</th>\n      <td>heartdisease</td>\n      <td>14</td>\n      <td>270</td>\n    </tr>\n    <tr>\n      <th>5</th>\n      <td>hepatitis-filled</td>\n      <td>20</td>\n      <td>155</td>\n    </tr>\n    <tr>\n      <th>6</th>\n      <td>house-votes-84</td>\n      <td>17</td>\n      <td>435</td>\n    </tr>\n    <tr>\n      <th>7</th>\n      <td>mushroom-modified-filled</td>\n      <td>23</td>\n      <td>8124</td>\n    </tr>\n    <tr>\n      <th>8</th>\n      <td>nursery</td>\n      <td>9</td>\n      <td>12960</td>\n    </tr>\n    <tr>\n      <th>9</th>\n      <td>diabetes</td>\n      <td>9</td>\n      <td>768</td>\n    </tr>\n    <tr>\n      <th>10</th>\n      <td>soybean-large-all-filled</td>\n      <td>36</td>\n      <td>683</td>\n    </tr>\n    <tr>\n      <th>11</th>\n      <td>SPECT-all-modif</td>\n      <td>23</td>\n      <td>267</td>\n    </tr>\n    <tr>\n      <th>12</th>\n      <td>SPECTF-all-modif</td>\n      <td>45</td>\n      <td>267</td>\n    </tr>\n  </tbody>\n</table>\n</div>"
     },
     "execution_count": 69,
     "metadata": {},
     "output_type": "execute_result"
    }
   ],
   "source": [
    "df = pd.read_csv('dane/_info-data-discrete.txt', sep=' ', header=None, names=[\"nazwa systemu\", \"liczba atrybutow\", \"liczba obiektow\"])\n",
    "df"
   ]
  },
  {
   "cell_type": "code",
   "execution_count": 70,
   "id": "c5479a85",
   "metadata": {
    "ExecuteTime": {
     "end_time": "2025-03-05T10:07:07.318356Z",
     "start_time": "2025-03-05T10:07:07.305322Z"
    }
   },
   "outputs": [
    {
     "data": {
      "text/plain": "   Attribute Type\n0         a1    s\n1         a2    n\n2         a3    n\n3         a4    s\n4         a5    s\n5         a6    s\n6         a7    n\n7         a8    s\n8         a9    s\n9        a10    n\n10       a11    s\n11       a12    s\n12       a13    n\n13       a14    n",
      "text/html": "<div>\n<style scoped>\n    .dataframe tbody tr th:only-of-type {\n        vertical-align: middle;\n    }\n\n    .dataframe tbody tr th {\n        vertical-align: top;\n    }\n\n    .dataframe thead th {\n        text-align: right;\n    }\n</style>\n<table border=\"1\" class=\"dataframe\">\n  <thead>\n    <tr style=\"text-align: right;\">\n      <th></th>\n      <th>Attribute</th>\n      <th>Type</th>\n    </tr>\n  </thead>\n  <tbody>\n    <tr>\n      <th>0</th>\n      <td>a1</td>\n      <td>s</td>\n    </tr>\n    <tr>\n      <th>1</th>\n      <td>a2</td>\n      <td>n</td>\n    </tr>\n    <tr>\n      <th>2</th>\n      <td>a3</td>\n      <td>n</td>\n    </tr>\n    <tr>\n      <th>3</th>\n      <td>a4</td>\n      <td>s</td>\n    </tr>\n    <tr>\n      <th>4</th>\n      <td>a5</td>\n      <td>s</td>\n    </tr>\n    <tr>\n      <th>5</th>\n      <td>a6</td>\n      <td>s</td>\n    </tr>\n    <tr>\n      <th>6</th>\n      <td>a7</td>\n      <td>n</td>\n    </tr>\n    <tr>\n      <th>7</th>\n      <td>a8</td>\n      <td>s</td>\n    </tr>\n    <tr>\n      <th>8</th>\n      <td>a9</td>\n      <td>s</td>\n    </tr>\n    <tr>\n      <th>9</th>\n      <td>a10</td>\n      <td>n</td>\n    </tr>\n    <tr>\n      <th>10</th>\n      <td>a11</td>\n      <td>s</td>\n    </tr>\n    <tr>\n      <th>11</th>\n      <td>a12</td>\n      <td>s</td>\n    </tr>\n    <tr>\n      <th>12</th>\n      <td>a13</td>\n      <td>n</td>\n    </tr>\n    <tr>\n      <th>13</th>\n      <td>a14</td>\n      <td>n</td>\n    </tr>\n  </tbody>\n</table>\n</div>"
     },
     "execution_count": 70,
     "metadata": {},
     "output_type": "execute_result"
    }
   ],
   "source": [
    "attributes_type = pd.read_csv(\"dane/australian-type.txt\", sep=\" \", header=None, names=[\"Attribute\", \"Type\"])\n",
    "attributes_type"
   ]
  },
  {
   "cell_type": "code",
   "execution_count": 71,
   "id": "32a20cc6",
   "metadata": {
    "ExecuteTime": {
     "end_time": "2025-03-05T10:07:07.362311Z",
     "start_time": "2025-03-05T10:07:07.336060Z"
    }
   },
   "outputs": [
    {
     "data": {
      "text/plain": "        a1     a2     a3  a4  a5  a6     a7  a8  a9  a10  a11  a12  a13   a14  \\\n0    1.234  22.08  11.46   2   4   4  1.585   0   0    0    1    2  100  1213   \n1    0.000  22.67   3.80   2   8   4  0.165   0   0    0    0    2  160     1   \n2    0.000  29.58   1.75   1   4   4  1.250   0   0    0    1    2  280     1   \n3    0.000  21.67  11.50   1   5   3  0.000   1   1   11    1    2    0     1   \n4    1.000  20.17   8.17   2   6   4  1.960   1   1   14    0    2   60   159   \n..     ...    ...    ...  ..  ..  ..    ...  ..  ..  ...  ...  ...  ...   ...   \n685  1.000  31.57  10.50   2  14   4  6.500   1   0    0    0    2    0     1   \n686  1.000  20.67   0.41   2   8   4  0.125   0   0    0    0    2    0    45   \n687  0.000  18.82   9.53   2   6   4  0.085   1   0    0    0    2  100     1   \n688  0.000  27.42  14.50   2  14   8  3.085   1   1    1    0    2  120    12   \n689  1.000  41.00   0.04   2  10   4  0.040   0   1    1    0    1  560     1   \n\n     Decyzja  \n0          0  \n1          0  \n2          0  \n3          1  \n4          1  \n..       ...  \n685        1  \n686        0  \n687        1  \n688        1  \n689        1  \n\n[690 rows x 15 columns]",
      "text/html": "<div>\n<style scoped>\n    .dataframe tbody tr th:only-of-type {\n        vertical-align: middle;\n    }\n\n    .dataframe tbody tr th {\n        vertical-align: top;\n    }\n\n    .dataframe thead th {\n        text-align: right;\n    }\n</style>\n<table border=\"1\" class=\"dataframe\">\n  <thead>\n    <tr style=\"text-align: right;\">\n      <th></th>\n      <th>a1</th>\n      <th>a2</th>\n      <th>a3</th>\n      <th>a4</th>\n      <th>a5</th>\n      <th>a6</th>\n      <th>a7</th>\n      <th>a8</th>\n      <th>a9</th>\n      <th>a10</th>\n      <th>a11</th>\n      <th>a12</th>\n      <th>a13</th>\n      <th>a14</th>\n      <th>Decyzja</th>\n    </tr>\n  </thead>\n  <tbody>\n    <tr>\n      <th>0</th>\n      <td>1.234</td>\n      <td>22.08</td>\n      <td>11.46</td>\n      <td>2</td>\n      <td>4</td>\n      <td>4</td>\n      <td>1.585</td>\n      <td>0</td>\n      <td>0</td>\n      <td>0</td>\n      <td>1</td>\n      <td>2</td>\n      <td>100</td>\n      <td>1213</td>\n      <td>0</td>\n    </tr>\n    <tr>\n      <th>1</th>\n      <td>0.000</td>\n      <td>22.67</td>\n      <td>3.80</td>\n      <td>2</td>\n      <td>8</td>\n      <td>4</td>\n      <td>0.165</td>\n      <td>0</td>\n      <td>0</td>\n      <td>0</td>\n      <td>0</td>\n      <td>2</td>\n      <td>160</td>\n      <td>1</td>\n      <td>0</td>\n    </tr>\n    <tr>\n      <th>2</th>\n      <td>0.000</td>\n      <td>29.58</td>\n      <td>1.75</td>\n      <td>1</td>\n      <td>4</td>\n      <td>4</td>\n      <td>1.250</td>\n      <td>0</td>\n      <td>0</td>\n      <td>0</td>\n      <td>1</td>\n      <td>2</td>\n      <td>280</td>\n      <td>1</td>\n      <td>0</td>\n    </tr>\n    <tr>\n      <th>3</th>\n      <td>0.000</td>\n      <td>21.67</td>\n      <td>11.50</td>\n      <td>1</td>\n      <td>5</td>\n      <td>3</td>\n      <td>0.000</td>\n      <td>1</td>\n      <td>1</td>\n      <td>11</td>\n      <td>1</td>\n      <td>2</td>\n      <td>0</td>\n      <td>1</td>\n      <td>1</td>\n    </tr>\n    <tr>\n      <th>4</th>\n      <td>1.000</td>\n      <td>20.17</td>\n      <td>8.17</td>\n      <td>2</td>\n      <td>6</td>\n      <td>4</td>\n      <td>1.960</td>\n      <td>1</td>\n      <td>1</td>\n      <td>14</td>\n      <td>0</td>\n      <td>2</td>\n      <td>60</td>\n      <td>159</td>\n      <td>1</td>\n    </tr>\n    <tr>\n      <th>...</th>\n      <td>...</td>\n      <td>...</td>\n      <td>...</td>\n      <td>...</td>\n      <td>...</td>\n      <td>...</td>\n      <td>...</td>\n      <td>...</td>\n      <td>...</td>\n      <td>...</td>\n      <td>...</td>\n      <td>...</td>\n      <td>...</td>\n      <td>...</td>\n      <td>...</td>\n    </tr>\n    <tr>\n      <th>685</th>\n      <td>1.000</td>\n      <td>31.57</td>\n      <td>10.50</td>\n      <td>2</td>\n      <td>14</td>\n      <td>4</td>\n      <td>6.500</td>\n      <td>1</td>\n      <td>0</td>\n      <td>0</td>\n      <td>0</td>\n      <td>2</td>\n      <td>0</td>\n      <td>1</td>\n      <td>1</td>\n    </tr>\n    <tr>\n      <th>686</th>\n      <td>1.000</td>\n      <td>20.67</td>\n      <td>0.41</td>\n      <td>2</td>\n      <td>8</td>\n      <td>4</td>\n      <td>0.125</td>\n      <td>0</td>\n      <td>0</td>\n      <td>0</td>\n      <td>0</td>\n      <td>2</td>\n      <td>0</td>\n      <td>45</td>\n      <td>0</td>\n    </tr>\n    <tr>\n      <th>687</th>\n      <td>0.000</td>\n      <td>18.82</td>\n      <td>9.53</td>\n      <td>2</td>\n      <td>6</td>\n      <td>4</td>\n      <td>0.085</td>\n      <td>1</td>\n      <td>0</td>\n      <td>0</td>\n      <td>0</td>\n      <td>2</td>\n      <td>100</td>\n      <td>1</td>\n      <td>1</td>\n    </tr>\n    <tr>\n      <th>688</th>\n      <td>0.000</td>\n      <td>27.42</td>\n      <td>14.50</td>\n      <td>2</td>\n      <td>14</td>\n      <td>8</td>\n      <td>3.085</td>\n      <td>1</td>\n      <td>1</td>\n      <td>1</td>\n      <td>0</td>\n      <td>2</td>\n      <td>120</td>\n      <td>12</td>\n      <td>1</td>\n    </tr>\n    <tr>\n      <th>689</th>\n      <td>1.000</td>\n      <td>41.00</td>\n      <td>0.04</td>\n      <td>2</td>\n      <td>10</td>\n      <td>4</td>\n      <td>0.040</td>\n      <td>0</td>\n      <td>1</td>\n      <td>1</td>\n      <td>0</td>\n      <td>1</td>\n      <td>560</td>\n      <td>1</td>\n      <td>1</td>\n    </tr>\n  </tbody>\n</table>\n<p>690 rows × 15 columns</p>\n</div>"
     },
     "execution_count": 71,
     "metadata": {},
     "output_type": "execute_result"
    }
   ],
   "source": [
    "classes = attributes_type['Attribute']\n",
    "classes = classes.squeeze() \n",
    "new_row = pd.Series([\"Decyzja\"], index=[len(classes)])\n",
    "classes = pd.concat([classes, new_row])\n",
    "systems_info = pd.read_csv('dane/australian.txt', sep=' ', header=None)\n",
    "systems_info.columns = classes.values\n",
    "systems_info"
   ]
  },
  {
   "cell_type": "markdown",
   "id": "caae2af2",
   "metadata": {},
   "source": [
    "# 3) Wczytujemy wybrany system np. w C++ i zdobywamy następujące informacje o systemie (load selected decision system for instance in C++ and find the information):"
   ]
  },
  {
   "cell_type": "markdown",
   "id": "76a0e9e9",
   "metadata": {},
   "source": [
    "## a) wypisujemy istniejące w systemie symbole klas decyzyjnych (find available decision classes),"
   ]
  },
  {
   "cell_type": "code",
   "execution_count": 72,
   "id": "88b7b0b9",
   "metadata": {
    "ExecuteTime": {
     "end_time": "2025-03-05T10:07:07.421113Z",
     "start_time": "2025-03-05T10:07:07.413548Z"
    }
   },
   "outputs": [
    {
     "name": "stdout",
     "output_type": "stream",
     "text": [
      "Symbole klas decyzyjnych: [0 1]\n"
     ]
    }
   ],
   "source": [
    "decision_classes = systems_info.iloc[:, -1].unique()\n",
    "print(\"Symbole klas decyzyjnych:\", decision_classes)"
   ]
  },
  {
   "cell_type": "markdown",
   "id": "4c815026",
   "metadata": {},
   "source": [
    "## b) wielkości klas decyzyjnych (liczby obiektów w klasach) (find size of decision classes (number of objects in classes) ),"
   ]
  },
  {
   "cell_type": "code",
   "execution_count": 73,
   "id": "889803a9",
   "metadata": {
    "ExecuteTime": {
     "end_time": "2025-03-05T10:07:07.480454Z",
     "start_time": "2025-03-05T10:07:07.472428Z"
    }
   },
   "outputs": [
    {
     "name": "stdout",
     "output_type": "stream",
     "text": [
      "Liczba obiektów w klasach:\n",
      " Decyzja\n",
      "0    383\n",
      "1    307\n",
      "Name: count, dtype: int64\n"
     ]
    }
   ],
   "source": [
    "class_counts = systems_info.iloc[:, -1].value_counts()\n",
    "print(\"Liczba obiektów w klasach:\\n\", class_counts)"
   ]
  },
  {
   "cell_type": "markdown",
   "id": "6721d5d6",
   "metadata": {},
   "source": [
    "## c) minimalne i maksymalne wartości poszczególnych atrybutów(dotyczy atrybutów numerycznych) (minimal and maximal values for each attribute - apply for numerical attributes),"
   ]
  },
  {
   "cell_type": "code",
   "execution_count": 74,
   "id": "a7fd5a53",
   "metadata": {
    "ExecuteTime": {
     "end_time": "2025-03-05T10:07:07.623426Z",
     "start_time": "2025-03-05T10:07:07.603400Z"
    }
   },
   "outputs": [
    {
     "data": {
      "text/plain": "        a2    a3    a7  a10   a13     a14\nMin  13.75   0.0   0.0    0     0       1\nMax  80.25  28.0  28.5   67  2000  100001",
      "text/html": "<div>\n<style scoped>\n    .dataframe tbody tr th:only-of-type {\n        vertical-align: middle;\n    }\n\n    .dataframe tbody tr th {\n        vertical-align: top;\n    }\n\n    .dataframe thead th {\n        text-align: right;\n    }\n</style>\n<table border=\"1\" class=\"dataframe\">\n  <thead>\n    <tr style=\"text-align: right;\">\n      <th></th>\n      <th>a2</th>\n      <th>a3</th>\n      <th>a7</th>\n      <th>a10</th>\n      <th>a13</th>\n      <th>a14</th>\n    </tr>\n  </thead>\n  <tbody>\n    <tr>\n      <th>Min</th>\n      <td>13.75</td>\n      <td>0.0</td>\n      <td>0.0</td>\n      <td>0</td>\n      <td>0</td>\n      <td>1</td>\n    </tr>\n    <tr>\n      <th>Max</th>\n      <td>80.25</td>\n      <td>28.0</td>\n      <td>28.5</td>\n      <td>67</td>\n      <td>2000</td>\n      <td>100001</td>\n    </tr>\n  </tbody>\n</table>\n</div>"
     },
     "metadata": {},
     "output_type": "display_data"
    }
   ],
   "source": [
    "min_max_attributes = pd.DataFrame()\n",
    "\n",
    "for _, row in attributes_type.iterrows():\n",
    "    if row['Type'] == \"n\":\n",
    "        min_max_attributes[row['Attribute']] = [systems_info[row['Attribute']].min(), systems_info[row['Attribute']].max()]\n",
    "\n",
    "min_max_attributes.index = [\"Min\", \"Max\"]\n",
    "\n",
    "display(min_max_attributes)\n",
    "        "
   ]
  },
  {
   "cell_type": "markdown",
   "id": "2a6404f6",
   "metadata": {},
   "source": [
    "## d) dla każdego atrybutu wypisujemy liczbę różnych dostępnych wartości (for each attribute detect the number of different available values),"
   ]
  },
  {
   "cell_type": "code",
   "execution_count": 75,
   "id": "07057756",
   "metadata": {
    "ExecuteTime": {
     "end_time": "2025-03-05T10:07:07.709252Z",
     "start_time": "2025-03-05T10:07:07.698725Z"
    }
   },
   "outputs": [
    {
     "name": "stdout",
     "output_type": "stream",
     "text": [
      "Columna 'a1' zawiera 3 unikalne wartości\n",
      "Columna 'a2' zawiera 350 unikalne wartości\n",
      "Columna 'a3' zawiera 212 unikalne wartości\n",
      "Columna 'a4' zawiera 3 unikalne wartości\n",
      "Columna 'a5' zawiera 14 unikalne wartości\n",
      "Columna 'a6' zawiera 8 unikalne wartości\n",
      "Columna 'a7' zawiera 132 unikalne wartości\n",
      "Columna 'a8' zawiera 2 unikalne wartości\n",
      "Columna 'a9' zawiera 2 unikalne wartości\n",
      "Columna 'a10' zawiera 23 unikalne wartości\n",
      "Columna 'a11' zawiera 2 unikalne wartości\n",
      "Columna 'a12' zawiera 3 unikalne wartości\n",
      "Columna 'a13' zawiera 171 unikalne wartości\n",
      "Columna 'a14' zawiera 240 unikalne wartości\n"
     ]
    }
   ],
   "source": [
    "for column in systems_info.columns[:-1]:\n",
    "    print(f\"Columna '{column}' zawiera {systems_info[column].nunique()} unikalne wartości\")\n"
   ]
  },
  {
   "cell_type": "markdown",
   "id": "ea9d5358",
   "metadata": {},
   "source": [
    "## e) dla każdego atrybutu wypisujemy listę wszystkich różnych dostępnych wartości(for each attribute list the set of different, available values),"
   ]
  },
  {
   "cell_type": "code",
   "execution_count": 76,
   "id": "21739327",
   "metadata": {
    "ExecuteTime": {
     "end_time": "2025-03-05T10:07:07.918052Z",
     "start_time": "2025-03-05T10:07:07.895542Z"
    }
   },
   "outputs": [
    {
     "name": "stdout",
     "output_type": "stream",
     "text": [
      "Atrybut 'a1': [1.234 0.    1.   ]\n",
      "Atrybut 'a2': [22.08 22.67 29.58 21.67 20.17 15.83 17.42 58.67 27.83 55.75 33.5  41.42\n",
      " 20.67 34.92 58.58 48.08 18.92 20.   22.42 28.17 19.17 41.17 41.58 19.5\n",
      " 32.75 22.5  33.17 30.67 23.08 27.   20.42 52.33 42.83 74.83 25.   39.58\n",
      " 47.75 47.42 23.17 22.58 26.75 63.33 23.75 20.75 24.5  16.17 29.5  52.83\n",
      " 32.33 21.08 19.   27.58 40.   37.33 42.5  56.75 43.17 18.5  40.83 42.\n",
      " 21.5  31.25 27.25 48.75 30.42 29.42 28.25 40.25 36.5  25.58 29.83 32.17\n",
      " 25.17 35.17 18.57 39.92 23.42 37.58 24.75 47.   34.17 22.17 27.75 42.75\n",
      " 28.67 36.25 18.17 21.25 38.92 31.83 17.32 39.08 38.67 27.67 22.25 49.83\n",
      " 38.25 47.33 35.75 33.58 34.08 22.75 40.58 38.75 57.08 22.   58.33 28.92\n",
      " 46.   21.   20.83 24.58 26.5  40.92 38.33 19.57 39.25 25.75 46.08 19.67\n",
      " 18.82 64.08 16.5  68.67 76.75 15.92 34.83 45.17 15.17 52.5  18.   37.5\n",
      " 47.83 33.08 43.08 34.5  18.25 17.92 18.42 62.5  23.5  35.25 56.83 53.33\n",
      " 42.17 33.75 25.67 24.33 23.33 37.17 26.25 29.75 23.   17.25 29.25 28.58\n",
      " 34.58 18.75 17.07 16.07 32.92 20.32 21.75 25.33 30.83 40.33 54.42 34.\n",
      " 26.58 33.67 36.17 24.17 30.5  28.75 31.57 20.25 45.   22.83 56.42 69.5\n",
      " 35.58 48.33 28.08 49.5  80.25 16.92 16.   60.08 28.   41.5  24.08 34.75\n",
      " 48.5  35.   16.32 25.08 36.33 23.25 20.07 22.33 16.25 32.83 48.25 18.32\n",
      " 44.25 31.58 65.42 41.33 36.75 31.92 24.83 21.92 34.25 51.83 38.42 39.17\n",
      " 39.   39.33 21.33 49.   21.83 26.83 38.58 50.08 15.75 54.58 18.07 36.67\n",
      " 38.17 51.92 52.42 60.92 42.25 23.58 36.   32.42 19.42 30.   31.   27.42\n",
      " 31.08 67.75 30.75 50.25 51.58 36.58 50.75 58.42 31.75 44.83 26.17 73.42\n",
      " 27.17 22.92 32.   19.32 34.42 33.25 53.92 25.25 56.5  32.25 20.5  30.25\n",
      " 23.92 21.17 31.42 47.25 32.08 30.58 54.83 32.67 30.17 41.75 25.83 29.92\n",
      " 51.42 62.75 71.58 24.42 44.33 25.92 17.57 31.67 57.58 59.67 65.17 30.08\n",
      " 48.58 48.17 60.58 26.67 57.83 55.92 51.33 39.83 29.67 17.5  47.67 57.42\n",
      " 13.75 29.17 21.42 45.83 27.33 42.08 28.5  45.33 33.   34.67 35.42 44.\n",
      " 37.75 49.17 59.5  25.5  49.58 33.92 69.17 43.25 56.58 44.17 17.82 25.42\n",
      " 56.   37.42 31.33 36.08 47.17 26.92 46.67 52.17 39.5  36.42 39.42 41.92\n",
      " 21.58 28.33 28.42 41.   18.67 30.33 19.75 26.   26.33 54.33 17.67 26.08\n",
      " 24.92 43.  ]\n",
      "Atrybut 'a3': [11.46  3.8   1.75 11.5   8.17  0.58  6.5   4.46  1.    7.08  5.    1.25\n",
      "  2.71  6.04  4.5   9.    5.66  1.33  9.58  1.5   0.12  3.04 12.    2.5\n",
      "  0.75 10.5   1.37 19.   12.5  13.91  8.    3.    0.    1.12  0.54  0.41\n",
      " 10.25  0.04  2.   15.    3.5   4.12  3.25  4.91 12.25  0.71  0.5   9.78\n",
      "  0.16  2.83  1.58 26.33  5.04 21.5   4.25  0.33  1.46  3.75 10.   13.66\n",
      " 13.    5.25  1.29  4.08 14.5   1.66  9.5   0.83  4.    0.21 13.75  0.87\n",
      " 13.58 10.12  0.91  0.25  0.08 10.33 11.    8.5  19.5   0.79  0.37 13.5\n",
      "  4.41  3.54 20.   22.29  2.87  7.    4.16  1.62  4.04  8.46  0.2  10.41\n",
      "  9.25 12.75  3.16  6.62 11.62  1.54  0.66  1.83 14.79 11.25  7.5   1.04\n",
      "  2.08  5.08  8.12  0.46  5.5   2.54  4.62  2.16  0.28  0.57  4.75  2.25\n",
      "  1.16  9.96  2.29 28.    6.    7.58 13.33  3.37  2.75 11.75  2.12 12.12\n",
      "  3.62  5.41 25.08  1.21  1.71  4.71  3.12  0.7   2.46 11.04  2.33  5.71\n",
      "  7.62  5.87 10.08  5.29 12.54  4.79  9.41  5.62  0.42  0.62 10.75  6.21\n",
      "  7.54  5.12  3.08 18.12 21.    3.29  3.33 17.75  8.58 12.62  1.08 10.91\n",
      "  2.41  9.62 16.   11.83  0.67 11.12 15.5   3.79 10.66  0.96 12.83 16.16\n",
      " 14.   16.5  12.33  9.75  7.04  2.04 22.    6.75 11.66  1.41 14.58  0.17\n",
      " 18.5   6.66  4.58  7.25  9.17 25.21  2.66  5.83  7.83  9.53 10.03  1.79\n",
      "  2.21 10.29 25.12  9.33  8.66 10.21  6.16 11.58]\n",
      "Atrybut 'a4': [2 1 3]\n",
      "Atrybut 'a5': [ 4  8  5  6  3 11  2 14  9 13  7  1 10 12]\n",
      "Atrybut 'a6': [4 3 8 1 5 9 2 7]\n",
      "Atrybut 'a7': [ 1.585  0.165  1.25   0.     1.96   1.5    0.125  3.04   3.     6.75\n",
      "  4.5    5.     1.375  7.5    2.415  0.04   0.75   2.585  0.585  0.21\n",
      "  0.79   5.5    2.04   2.     1.085  4.25   9.46   2.125 13.875  8.625\n",
      "  7.875  0.085  0.54   0.71   0.5    2.335  5.085  3.5    3.165  2.25\n",
      "  0.25   7.96   1.835  1.75  20.     1.     0.625  0.415  5.165  2.5\n",
      "  5.75   1.04   8.5    4.     0.335 12.5    0.29   6.5    1.46   2.375\n",
      "  0.835  3.25  17.5   12.75   6.29   3.085  0.375  2.46   3.75   7.\n",
      "  1.21   5.04   2.71   2.75   3.96   1.625  4.625 14.     2.29  10.\n",
      " 28.5   16.     7.585 18.     4.165  5.375  1.165  8.29   0.665  1.335\n",
      "  3.335  1.54  10.75   1.665 15.     7.415  0.96  13.5    4.75  14.415\n",
      "  1.71   0.455  8.     0.875 13.     1.29   5.335  8.665  6.     0.46\n",
      "  1.875  4.335  5.125 15.5    2.625 11.     4.58   3.125  4.29   5.25\n",
      "  2.085  2.165  6.04  11.5    1.415  7.375  2.54   9.     2.79   3.17\n",
      "  0.795  5.665]\n",
      "Atrybut 'a8': [0 1]\n",
      "Atrybut 'a9': [0 1]\n",
      "Atrybut 'a10': [ 0 11 14  2  6  3  4  7  1  8  5 12 16  9 10 15 67 17 19 40 13 20 23]\n",
      "Atrybut 'a11': [1 0]\n",
      "Atrybut 'a12': [2 1 3]\n",
      "Atrybut 'a13': [ 100  160  280    0   60   43  176  253  470  140  320  330   88  129\n",
      "  260  168   80  200  180  220  312  154  290  352   20   70  519  120\n",
      "  128   49  132  256  232  216  112  369  434   52  141  240 1160  380\n",
      "  583  144  454  340  550  184  108  150  480  487   45   75  420  181\n",
      "   76  130  350  396  375  600  500  520  460  300  195  164  368  400\n",
      "  680   62   92  212  171  720   50  360  202  210   96  560  231  110\n",
      "  228   29  431  225  370   40  252  395   22  840  136  292  399  416\n",
      "  980  156   73   30  356  309   17   99  443  272 2000  204  145  711\n",
      "  276  383  371  274  432  440  224  333  152  408   32  510  221  268\n",
      "   56  174  250  208   21  288  349  450  410  329  167  121  263   28\n",
      "  523  311  178  170   94  422  348  163  303   24  760  465  239  254\n",
      "   93  102  186  117  640  188  393  230  455  515  381  928   86  211\n",
      "  411  372  491]\n",
      "Atrybut 'a14': [  1213      1    159    101    561    538     51    858    211   1001\n",
      "   2691    592      5   3258   1005    351     71  18028     20   2185\n",
      "    151     33    285    113    352   1261   1705     68   5299      7\n",
      "     18   2201   2101      2     36    501    247   1443    301    825\n",
      "     69    147    714     34      8   1201   2080   7060    201     43\n",
      "    287    368      9    391     11   5861   7545    229   1584   2001\n",
      "   4072    810   1656   3066   3001    284   1603    141    961    568\n",
      "    770   4608   4160     99   3377    110  51101  11203     41      6\n",
      "     17    163   4209    751    376     10     28    196    259     54\n",
      "   1209  26727    127   1466  31286    185     19    109    315     61\n",
      "    688    365   5125   2385      4     16    322    457  13213   1271\n",
      "   5001    341    476    135    838     22   1188    155    174  50001\n",
      "    485    769    279   2198   2073     15      3     21    601     60\n",
      "    106    588    161    395    100    445    197    401   2301   4001\n",
      "   2280     42    828     23    118   3553     12   6701   2011   2955\n",
      "   1098   2284   1345    991   5553     14   1066    611    248   8001\n",
      "   5201  11178    328    114    679    205    801    893    131    691\n",
      "    541     56     13   2804   1301    552   4501    743    731   1401\n",
      "     29    791    583    348  10562    459   5778   1333   8852   1250\n",
      "     45     24   1431   1392 100001   2511    235  10001    919     88\n",
      "   2504   6591    180    723     59  15109    238  15001    252   3291\n",
      "    142   2029    222     91   5801    502   1951    640    397   4701\n",
      "   2207   1211    949   9801    246   1059    148     26   1237     39\n",
      "    226    169     81   1111   1063    317    123   2733   1350    121]\n"
     ]
    }
   ],
   "source": [
    "for column in systems_info.columns[:-1]:\n",
    "    print(f\"Atrybut '{column}': {systems_info[column].unique()}\")"
   ]
  },
  {
   "cell_type": "markdown",
   "id": "e9d5f25c",
   "metadata": {},
   "source": [
    "## f)odchylenie standardowe dla poszczególnych atrybutów w całym systemie i w klasach decyzyjnych (dotyczy atrybutów numerycznych) (compute standard deviation for each attribute in the whole system and separately for each decision class)."
   ]
  },
  {
   "cell_type": "code",
   "execution_count": 77,
   "id": "0c931664",
   "metadata": {
    "ExecuteTime": {
     "end_time": "2025-03-05T10:07:07.974580Z",
     "start_time": "2025-03-05T10:07:07.943146Z"
    }
   },
   "outputs": [
    {
     "name": "stdout",
     "output_type": "stream",
     "text": [
      "Odchylenie standardowe całego systemu:  a1            0.467801\n",
      "a2           11.853826\n",
      "a3            4.977828\n",
      "a4            0.430063\n",
      "a5            3.683265\n",
      "a6            1.992316\n",
      "a7            3.346513\n",
      "a8            0.499824\n",
      "a9            0.495080\n",
      "a10           4.862940\n",
      "a11           0.498592\n",
      "a12           0.298813\n",
      "a13         172.159274\n",
      "a14        5210.102598\n",
      "Decyzja       0.497318\n",
      "dtype: float64\n"
     ]
    },
    {
     "data": {
      "text/plain": "                               a2        a3        a7      a10         a13  \\\nOdchylenie standardowe  11.853826  4.977828  3.346513  4.86294  172.159274   \n\n                                a14  \nOdchylenie standardowe  5210.102598  ",
      "text/html": "<div>\n<style scoped>\n    .dataframe tbody tr th:only-of-type {\n        vertical-align: middle;\n    }\n\n    .dataframe tbody tr th {\n        vertical-align: top;\n    }\n\n    .dataframe thead th {\n        text-align: right;\n    }\n</style>\n<table border=\"1\" class=\"dataframe\">\n  <thead>\n    <tr style=\"text-align: right;\">\n      <th></th>\n      <th>a2</th>\n      <th>a3</th>\n      <th>a7</th>\n      <th>a10</th>\n      <th>a13</th>\n      <th>a14</th>\n    </tr>\n  </thead>\n  <tbody>\n    <tr>\n      <th>Odchylenie standardowe</th>\n      <td>11.853826</td>\n      <td>4.977828</td>\n      <td>3.346513</td>\n      <td>4.86294</td>\n      <td>172.159274</td>\n      <td>5210.102598</td>\n    </tr>\n  </tbody>\n</table>\n</div>"
     },
     "metadata": {},
     "output_type": "display_data"
    }
   ],
   "source": [
    "import statistics\n",
    "\n",
    "print(\"Odchylenie standardowe całego systemu: \", systems_info.std())\n",
    "\n",
    "min_max_attributes = pd.DataFrame()\n",
    "\n",
    "for _, row in attributes_type.iterrows():\n",
    "    if row['Type'] == \"n\":\n",
    "        min_max_attributes[row['Attribute']] = [statistics.stdev(systems_info[row['Attribute']])]\n",
    "\n",
    "min_max_attributes.index = [\"Odchylenie standardowe\"]\n",
    "\n",
    "display(min_max_attributes)"
   ]
  },
  {
   "cell_type": "markdown",
   "id": "582894e7",
   "metadata": {},
   "source": [
    "# 4) Wykonaj dla wybranych danych następujący preprocessing (do for selected data the following preprocessing):"
   ]
  },
  {
   "cell_type": "code",
   "execution_count": 78,
   "id": "3f8a2ce7",
   "metadata": {
    "ExecuteTime": {
     "end_time": "2025-03-05T10:07:08.038512Z",
     "start_time": "2025-03-05T10:07:08.033370Z"
    }
   },
   "outputs": [],
   "source": [
    "## a) Wygeneruj 10 procent wartości nieznanych, wpisując na miejsce danych znak zapytania i napraw metodą szukania najczęściej wystepującej wartości, lub wartością średnią (dla atrybutów numerycznych), (generate ten per cent of missing values in selected decision system, and complete the missing values with most common values or mean values (for symbolic attributes)"
   ]
  }
 ],
 "metadata": {
  "kernelspec": {
   "display_name": "Python 3 (ipykernel)",
   "language": "python",
   "name": "python3"
  },
  "language_info": {
   "codemirror_mode": {
    "name": "ipython",
    "version": 3
   },
   "file_extension": ".py",
   "mimetype": "text/x-python",
   "name": "python",
   "nbconvert_exporter": "python",
   "pygments_lexer": "ipython3",
   "version": "3.11.3"
  }
 },
 "nbformat": 4,
 "nbformat_minor": 5
}
