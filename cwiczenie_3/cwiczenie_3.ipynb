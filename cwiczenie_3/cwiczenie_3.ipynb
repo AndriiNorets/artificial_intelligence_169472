{
 "cells": [
  {
   "cell_type": "markdown",
   "source": [
    "Napisz swój program reprezentujący następujący CSP, który ma zbiór zmi-\n",
    "ennych {X1, X2, X3}; na obrazku pokazana jest domena każdej zmiennej i\n",
    "\n",
    "wszystkie ograniczenia między zmiennymi."
   ],
   "metadata": {
    "collapsed": false
   },
   "id": "8b9016469ac4923"
  }
 ],
 "metadata": {
  "kernelspec": {
   "display_name": "Python 3",
   "language": "python",
   "name": "python3"
  },
  "language_info": {
   "codemirror_mode": {
    "name": "ipython",
    "version": 2
   },
   "file_extension": ".py",
   "mimetype": "text/x-python",
   "name": "python",
   "nbconvert_exporter": "python",
   "pygments_lexer": "ipython2",
   "version": "2.7.6"
  }
 },
 "nbformat": 4,
 "nbformat_minor": 5
}
